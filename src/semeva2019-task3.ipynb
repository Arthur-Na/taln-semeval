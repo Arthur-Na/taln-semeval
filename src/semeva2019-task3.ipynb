{
 "cells": [
  {
   "cell_type": "code",
   "execution_count": 1,
   "metadata": {},
   "outputs": [
    {
     "name": "stderr",
     "output_type": "stream",
     "text": [
      "Using TensorFlow backend.\n",
      "/home/arthur/anaconda3/envs/dlnlp/lib/python3.6/site-packages/kutilities/callbacks.py:6: UserWarning: matplotlib.pyplot as already been imported, this call will have no effect.\n",
      "  matplotlib.use('TkAgg')\n"
     ]
    }
   ],
   "source": [
    "import numpy as np\n",
    "import os\n",
    "import sys\n",
    "import pickle\n",
    "import pandas as pd\n",
    "from multiprocessing import Pool\n",
    "%matplotlib inline\n",
    "import matplotlib.pyplot as plt\n",
    "\n",
    "from ekphrasis.classes.preprocessor import TextPreProcessor\n",
    "from ekphrasis.classes.tokenizer import SocialTokenizer\n",
    "from ekphrasis.dicts.emoticons import emoticons\n",
    "\n",
    "from sklearn.model_selection import train_test_split\n",
    "from keras.constraints import maxnorm\n",
    "from keras.engine import Input\n",
    "from keras.engine import Model\n",
    "from keras.layers import Dropout, Dense, Bidirectional, LSTM, \\\n",
    "    Embedding, GaussianNoise, Activation, Flatten, \\\n",
    "    RepeatVector, MaxoutDense, GlobalMaxPooling1D, \\\n",
    "    Convolution1D, MaxPooling1D, concatenate, Conv1D, GRU, Flatten, MaxPool1D\n",
    "from keras.models import Sequential\n",
    "from keras.optimizers import Adam\n",
    "from keras.regularizers import l2\n",
    "from kutilities.layers import AttentionWithContext, Attention, MeanOverTime\n",
    "from kutilities.helpers.data_preparation import print_dataset_statistics, \\\n",
    "labels_to_categories, categories_to_onehot\n",
    "from sklearn.metrics import f1_score, precision_score\n",
    "from sklearn.metrics import recall_score\n",
    "from kutilities.callbacks import MetricsCallback, PlottingCallback\n",
    "from kutilities.helpers.data_preparation import get_labels_to_categories_map, \\\n",
    "get_class_weights2, onehot_to_categories\n",
    "from keras.callbacks import ModelCheckpoint\n",
    "import scipy.stats\n",
    "import keras\n",
    "from keras.utils import np_utils, to_categorical\n",
    "from keras.models import load_model\n",
    "from keras.utils import CustomObjectScope, plot_model\n",
    "\n",
    "from sklearn.model_selection import StratifiedKFold\n",
    "\n",
    "from collections import defaultdict"
   ]
  },
  {
   "cell_type": "markdown",
   "metadata": {},
   "source": [
    "- Loading wor2vec and buid embeddings if not in data folder"
   ]
  },
  {
   "cell_type": "code",
   "execution_count": 2,
   "metadata": {},
   "outputs": [],
   "source": [
    "tmp_file = '../data/datastories.twitter.200d'\n",
    "embedding_file = tmp_file + '.txt'\n",
    "pickle_file = tmp_file + '.pickle'\n",
    "embedding_dim = 200\n",
    "\n",
    "if os.path.exists(pickle_file):\n",
    "    with open(pickle_file, 'rb') as f:\n",
    "        wv_data = pickle.load(f)\n",
    "elif os.path.exists(embedding_file):\n",
    "    print('Indexing file {} ...'.format(embedding_file))\n",
    "    wv_data = {}\n",
    "    with open(embedding_file, \"r\", encoding=\"utf-8\") as f:\n",
    "        for i, line in enumerate(f):\n",
    "            values = line.split()\n",
    "            word = values[0]\n",
    "            coefs = np.asarray(values[1:], dtype='float32')\n",
    "\n",
    "            wv_data[word] = coefs\n",
    "    print('Found {} word vectors.'.format(len(wv_data)))\n",
    "\n",
    "    with open(pickle_file, 'wb') as pickle_file:\n",
    "        pickle.dump(wv_data, pickle_file)\n",
    "        \n",
    "wv_data[\"<unk>\"] = np.random.uniform(low=-0.05, high=0.05, size=embedding_dim)\n",
    "wv_data[\"<pad>\"] = np.zeros(embedding_dim)\n",
    "        \n",
    "embeddings = np.zeros((len(wv_data), embedding_dim), dtype=np.float32)\n",
    "wv_id = dict()\n",
    "for i, (w, v) in enumerate(wv_data.items()):\n",
    "    embeddings[i] = v.copy()\n",
    "    wv_id[w] = i"
   ]
  },
  {
   "cell_type": "markdown",
   "metadata": {},
   "source": [
    "- bulding the ekphrasis text processor with options that interest us"
   ]
  },
  {
   "cell_type": "code",
   "execution_count": 3,
   "metadata": {},
   "outputs": [
    {
     "name": "stdout",
     "output_type": "stream",
     "text": [
      "Reading twitter - 1grams ...\n",
      "Reading twitter - 2grams ...\n",
      "Reading twitter - 1grams ...\n"
     ]
    }
   ],
   "source": [
    "text_processor = TextPreProcessor(\n",
    "    backoff=['url', 'email', 'percent', 'money', 'phone', 'user',\n",
    "             'time', 'url', 'date', 'number'],\n",
    "    include_tags={\"hashtag\", \"allcaps\", \"elongated\", \"repeated\",\n",
    "                  'emphasis', 'censored'},\n",
    "    fix_html=True,\n",
    "    segmenter=\"twitter\",\n",
    "    corrector=\"twitter\",\n",
    "    unpack_hashtags=True,\n",
    "    unpack_contractions=True,\n",
    "    spell_correct_elong=True,\n",
    "    tokenizer=SocialTokenizer(lowercase=True).tokenize, dicts=[emoticons]\n",
    ")\n",
    "\n",
    "#text_processor.pre_process_doc('the quick brown fox jumped over the lazy dog')"
   ]
  },
  {
   "cell_type": "markdown",
   "metadata": {},
   "source": [
    "- Loading train and test data, process resutl for our use (one-hot instead of strings for emotions)"
   ]
  },
  {
   "cell_type": "code",
   "execution_count": 25,
   "metadata": {},
   "outputs": [
    {
     "name": "stdout",
     "output_type": "stream",
     "text": [
      "['angry' 'others' 'happy' 'sad']\n",
      "(2755, 4) (2755,)\n",
      "(30160, 4) (30160,)\n"
     ]
    },
    {
     "data": {
      "text/html": [
       "<div>\n",
       "<style scoped>\n",
       "    .dataframe tbody tr th:only-of-type {\n",
       "        vertical-align: middle;\n",
       "    }\n",
       "\n",
       "    .dataframe tbody tr th {\n",
       "        vertical-align: top;\n",
       "    }\n",
       "\n",
       "    .dataframe thead th {\n",
       "        text-align: right;\n",
       "    }\n",
       "</style>\n",
       "<table border=\"1\" class=\"dataframe\">\n",
       "  <thead>\n",
       "    <tr style=\"text-align: right;\">\n",
       "      <th></th>\n",
       "      <th>turn1</th>\n",
       "      <th>turn2</th>\n",
       "      <th>turn3</th>\n",
       "      <th>label</th>\n",
       "    </tr>\n",
       "    <tr>\n",
       "      <th>id</th>\n",
       "      <th></th>\n",
       "      <th></th>\n",
       "      <th></th>\n",
       "      <th></th>\n",
       "    </tr>\n",
       "  </thead>\n",
       "  <tbody>\n",
       "    <tr>\n",
       "      <th>0</th>\n",
       "      <td>Don't worry  I'm girl</td>\n",
       "      <td>hmm how do I know if you are</td>\n",
       "      <td>What's ur name?</td>\n",
       "      <td>others</td>\n",
       "    </tr>\n",
       "    <tr>\n",
       "      <th>1</th>\n",
       "      <td>When did I?</td>\n",
       "      <td>saw many times i think -_-</td>\n",
       "      <td>No. I never saw you</td>\n",
       "      <td>angry</td>\n",
       "    </tr>\n",
       "    <tr>\n",
       "      <th>2</th>\n",
       "      <td>By</td>\n",
       "      <td>by Google Chrome</td>\n",
       "      <td>Where you live</td>\n",
       "      <td>others</td>\n",
       "    </tr>\n",
       "    <tr>\n",
       "      <th>3</th>\n",
       "      <td>U r ridiculous</td>\n",
       "      <td>I might be ridiculous but I am telling the truth.</td>\n",
       "      <td>U little disgusting whore</td>\n",
       "      <td>angry</td>\n",
       "    </tr>\n",
       "    <tr>\n",
       "      <th>4</th>\n",
       "      <td>Just for time pass</td>\n",
       "      <td>wt do u do 4 a living then</td>\n",
       "      <td>Maybe</td>\n",
       "      <td>others</td>\n",
       "    </tr>\n",
       "  </tbody>\n",
       "</table>\n",
       "</div>"
      ],
      "text/plain": [
       "                    turn1                                              turn2  \\\n",
       "id                                                                             \n",
       "0   Don't worry  I'm girl                       hmm how do I know if you are   \n",
       "1             When did I?                         saw many times i think -_-   \n",
       "2                      By                                   by Google Chrome   \n",
       "3          U r ridiculous  I might be ridiculous but I am telling the truth.   \n",
       "4      Just for time pass                         wt do u do 4 a living then   \n",
       "\n",
       "                        turn3   label  \n",
       "id                                     \n",
       "0             What's ur name?  others  \n",
       "1         No. I never saw you   angry  \n",
       "2              Where you live  others  \n",
       "3   U little disgusting whore   angry  \n",
       "4                       Maybe  others  "
      ]
     },
     "execution_count": 25,
     "metadata": {},
     "output_type": "execute_result"
    }
   ],
   "source": [
    "Xtest = []\n",
    "Ytest = []\n",
    "\n",
    "df = pd.read_csv('../data/dev_2019.txt', sep='\\t', index_col=0)\n",
    "Xtest = [df.turn1.values, df.turn2.values, df.turn3.values]\n",
    "Ytest = list(map(lambda x: {'others': 0, 'angry': 1, 'sad': 2, 'happy': 3}[x], df.label.values))\n",
    "Ytest = np_utils.to_categorical(Ytest)\n",
    "\n",
    "print(df.label.unique())\n",
    "print(Ytest.shape, Xtest[0].shape)\n",
    "\n",
    "Xtrain = []\n",
    "Ytrain = []\n",
    "\n",
    "df = pd.read_csv('../data/train.txt', sep='\\t', index_col=0)\n",
    "Xtrain = [df.turn1.values, df.turn2.values, df.turn3.values]\n",
    "\n",
    "Ytrain = list(map(lambda x: {'others': 0, 'angry': 1, 'sad': 2, 'happy': 3}[x], df.label.values))\n",
    "Ytrain = np_utils.to_categorical(Ytrain)\n",
    "\n",
    "print(Ytrain.shape, Xtrain[0].shape)\n",
    "\n",
    "df.head()"
   ]
  },
  {
   "cell_type": "code",
   "execution_count": 26,
   "metadata": {},
   "outputs": [
    {
     "name": "stdout",
     "output_type": "stream",
     "text": [
      "(5509,)\n"
     ]
    }
   ],
   "source": [
    "Xres = []\n",
    "Yres = []\n",
    "\n",
    "df = pd.read_csv('../data/testwithoutlabels.txt', sep='\\t', index_col=0)\n",
    "Xres = [df.turn1.values, df.turn2.values, df.turn3.values]\n",
    "\n",
    "print(Xres[0].shape)"
   ]
  },
  {
   "cell_type": "markdown",
   "metadata": {},
   "source": [
    "- process text processing to all of our sentences"
   ]
  },
  {
   "cell_type": "code",
   "execution_count": 27,
   "metadata": {},
   "outputs": [
    {
     "name": "stdout",
     "output_type": "stream",
     "text": [
      "[73, 34, 145]\n"
     ]
    }
   ],
   "source": [
    "def proces(s):\n",
    "    return text_processor.pre_process_doc(s)\n",
    "\n",
    "with Pool(processes=4) as pool:\n",
    "    Xtrain[0] = list(pool.map(proces, Xtrain[0]))\n",
    "    Xtrain[1] = list(pool.map(proces, Xtrain[1]))\n",
    "    Xtrain[2] = list(pool.map(proces, Xtrain[2]))\n",
    "    Xtest[0] = list(pool.map(proces, Xtest[0]))\n",
    "    Xtest[1] = list(pool.map(proces, Xtest[1]))\n",
    "    Xtest[2] = list(pool.map(proces, Xtest[2]))\n",
    "    Xres[0] = list(pool.map(proces, Xres[0]))\n",
    "    Xres[1] = list(pool.map(proces, Xres[1]))\n",
    "    Xres[2] = list(pool.map(proces, Xres[2]))\n",
    "    max_len_0 = len(max(Xtrain[0], key=len))\n",
    "    max_len_1 = len(max(Xtrain[1], key=len))\n",
    "    max_len_2 = len(max(Xtrain[2], key=len))\n",
    "    \n",
    "max_len = [max_len_0, max_len_1, max_len_2]\n",
    "print(max_len)\n"
   ]
  },
  {
   "cell_type": "markdown",
   "metadata": {},
   "source": [
    "- check sentece length for cut the to longs "
   ]
  },
  {
   "cell_type": "code",
   "execution_count": 28,
   "metadata": {},
   "outputs": [
    {
     "data": {
      "image/png": "[encoded data removed]",
      "text/plain": [
       "<Figure size 1080x360 with 3 Axes>"
      ]
     },
     "metadata": {
      "needs_background": "light"
     },
     "output_type": "display_data"
    }
   ],
   "source": [
    "plt.figure(figsize=(15,5))\n",
    "h = [defaultdict(int), defaultdict(int), defaultdict(int)]\n",
    "\n",
    "for i, tur in enumerate(Xtrain):\n",
    "    for sen in tur:\n",
    "        h[i][len(sen)] += 1\n",
    "    l_count = [h[i][x] for x in range(max_len[i] + 1)]\n",
    "    plt.subplot(1,3,i + 1)\n",
    "    plt.title('turn {}'.format(i + 1))\n",
    "    plt.plot(range(max_len[i] + 1), l_count)\n",
    "    plt.yscale('log')\n",
    "    \n",
    "max_len = [40, 34, 40]"
   ]
  },
  {
   "cell_type": "markdown",
   "metadata": {},
   "source": [
    "- replace words by there ids of the embeddings and add padding and check how many words are unknown"
   ]
  },
  {
   "cell_type": "code",
   "execution_count": 29,
   "metadata": {},
   "outputs": [
    {
     "name": "stdout",
     "output_type": "stream",
     "text": [
      "(30160, 40)\n",
      "2265 / 483015\n",
      "(2755, 40)\n",
      "210 / 42792\n"
     ]
    }
   ],
   "source": [
    "count_unk = 0\n",
    "known = 0\n",
    "for i in range(len(Xtrain)):\n",
    "    for j in range(len(Xtrain[i])):\n",
    "        for k in range(len(Xtrain[i][j])):\n",
    "            if Xtrain[i][j][k] not in wv_data.keys():\n",
    "                Xtrain[i][j][k] = wv_id['<unk>']\n",
    "                count_unk += 1\n",
    "            else:\n",
    "                Xtrain[i][j][k] = wv_id[Xtrain[i][j][k]]\n",
    "                known += 1\n",
    "        Xtrain[i][j] = Xtrain[i][j][:max_len[i]]\n",
    "        Xtrain[i][j] += [wv_id['<pad>']] * (max_len[i] - len(Xtrain[i][j]))\n",
    "    Xtrain[i] = np.array(Xtrain[i])\n",
    "print(Xtrain[0].shape)\n",
    "\n",
    "print(count_unk, '/', count_unk + known)\n",
    "\n",
    "\n",
    "count_unk = 0\n",
    "known = 0\n",
    "for i in range(len(Xtest)):\n",
    "    for j in range(len(Xtest[i])):\n",
    "        for k in range(len(Xtest[i][j])):\n",
    "            if Xtest[i][j][k] not in wv_data.keys():\n",
    "                Xtest[i][j][k] = wv_id['<unk>']\n",
    "                count_unk += 1\n",
    "            else:\n",
    "                Xtest[i][j][k] = wv_id[Xtest[i][j][k]]\n",
    "                known += 1\n",
    "        Xtest[i][j] = Xtest[i][j][:max_len[i]]\n",
    "        Xtest[i][j] += [wv_id['<pad>']] * (max_len[i] - len(Xtest[i][j]))\n",
    "    Xtest[i] = np.array(Xtest[i])\n",
    "print(Xtest[0].shape)\n",
    "print(count_unk, '/', count_unk + known)\n"
   ]
  },
  {
   "cell_type": "code",
   "execution_count": 30,
   "metadata": {},
   "outputs": [
    {
     "name": "stdout",
     "output_type": "stream",
     "text": [
      "(5509, 40)\n",
      "445 / 85197\n"
     ]
    }
   ],
   "source": [
    "count_unk = 0\n",
    "known = 0\n",
    "for i in range(len(Xres)):\n",
    "    for j in range(len(Xres[i])):\n",
    "        for k in range(len(Xres[i][j])):\n",
    "            if Xres[i][j][k] not in wv_data.keys():\n",
    "                Xres[i][j][k] = wv_id['<unk>']\n",
    "                count_unk += 1\n",
    "            else:\n",
    "                Xres[i][j][k] = wv_id[Xres[i][j][k]]\n",
    "                known += 1\n",
    "        Xres[i][j] = Xres[i][j][:max_len[i]]\n",
    "        Xres[i][j] += [wv_id['<pad>']] * (max_len[i] - len(Xres[i][j]))\n",
    "    Xres[i] = np.array(Xres[i])\n",
    "print(Xres[0].shape)\n",
    "\n",
    "print(count_unk, '/', count_unk + known)"
   ]
  },
  {
   "cell_type": "markdown",
   "metadata": {},
   "source": [
    "- load train test data"
   ]
  },
  {
   "cell_type": "code",
   "execution_count": 8,
   "metadata": {},
   "outputs": [],
   "source": [
    "X_train = Xtrain\n",
    "y_train = Ytrain\n",
    "X_test = Xtest\n",
    "y_test = Ytest"
   ]
  },
  {
   "cell_type": "markdown",
   "metadata": {},
   "source": [
    "# Deep Learning"
   ]
  },
  {
   "cell_type": "markdown",
   "metadata": {},
   "source": [
    "- function for plot history of a training"
   ]
  },
  {
   "cell_type": "code",
   "execution_count": 9,
   "metadata": {},
   "outputs": [],
   "source": [
    "import matplotlib\n",
    "def generate_plot(H, nb_epoch):\n",
    "    print(\"Generating plots...\")\n",
    "    sys.stdout.flush()\n",
    "    matplotlib.use(\"Agg\")\n",
    "    matplotlib.pyplot.style.use(\"ggplot\")\n",
    "    matplotlib.pyplot.figure()\n",
    "    N = nb_epoch\n",
    "    matplotlib.pyplot.plot(np.arange(0, N), H.history[\"loss\"], label=\"train_loss\")\n",
    "    matplotlib.pyplot.plot(np.arange(0, N), H.history[\"val_loss\"], label=\"val_loss\")\n",
    "    matplotlib.pyplot.title(\"Training Loss on diabetic retinopathy detection\")\n",
    "    matplotlib.pyplot.xlabel(\"Epoch #\")\n",
    "    matplotlib.pyplot.ylabel(\"Loss\")\n",
    "    matplotlib.pyplot.legend(loc=\"lower left\")\n",
    "\n",
    "    matplotlib.pyplot.figure()\n",
    "    matplotlib.pyplot.plot(np.arange(0, N), H.history[\"acc\"], label=\"train_acc\")\n",
    "    matplotlib.pyplot.plot(np.arange(0, N), H.history[\"val_acc\"], label=\"val_acc\")\n",
    "    matplotlib.pyplot.title(\"Training Accuracy on diabetic retinopathy detection\")\n",
    "    matplotlib.pyplot.xlabel(\"Epoch #\")\n",
    "    matplotlib.pyplot.ylabel(\"Accuracy\")\n",
    "    matplotlib.pyplot.legend(loc=\"lower left\")"
   ]
  },
  {
   "cell_type": "markdown",
   "metadata": {},
   "source": [
    "- check distribution between classes"
   ]
  },
  {
   "cell_type": "code",
   "execution_count": 10,
   "metadata": {},
   "outputs": [
    {
     "data": {
      "text/plain": [
       "{0: 14948, 1: 5506, 2: 5463, 3: 4243}"
      ]
     },
     "execution_count": 10,
     "metadata": {},
     "output_type": "execute_result"
    }
   ],
   "source": [
    "tmp_train = np.asarray(Ytrain).argmax(axis=-1)\n",
    "unique, counts = np.unique(tmp_train, return_counts=True)\n",
    "dict(zip(unique, counts))"
   ]
  },
  {
   "cell_type": "markdown",
   "metadata": {},
   "source": [
    "- function for create a RNN"
   ]
  },
  {
   "cell_type": "code",
   "execution_count": 11,
   "metadata": {},
   "outputs": [],
   "source": [
    "def get_RNN(unit=LSTM, cells=64, bi=False, return_sequences=True, dropout_U=0.,\n",
    "            consume_less='cpu', l2_reg=0):\n",
    "    rnn = unit(cells, return_sequences=return_sequences,\n",
    "               consume_less=consume_less, dropout_U=dropout_U,\n",
    "               W_regularizer=l2(l2_reg))\n",
    "    if bi:\n",
    "        return Bidirectional(rnn)\n",
    "    else:\n",
    "        return rnn"
   ]
  },
  {
   "cell_type": "code",
   "execution_count": 12,
   "metadata": {},
   "outputs": [],
   "source": [
    "label2emotion = {0:\"others\", 1:\"angry\", 2: \"sad\", 3:\"happy\"}\n",
    "emotion2label = {0: 'others', 1: 'angry', 2: 'sad', 3: 'happy'}\n",
    "def getMetrics(predictions, ground, verbose=False):\n",
    "    \"\"\"Given predicted labels and the respective ground truth labels, display some metrics\n",
    "    Input: shape [# of samples, NUM_CLASSES]\n",
    "        predictions : Model output. Every row has 4 decimal values, with the highest belonging to the predicted class\n",
    "        ground : Ground truth labels, converted to one-hot encodings. A sample belonging to Happy class will be [0, 1, 0, 0]\n",
    "    Output:\n",
    "        accuracy : Average accuracy\n",
    "        microPrecision : Precision calculated on a micro level. Ref - https://datascience.stackexchange.com/questions/15989/micro-average-vs-macro-average-performance-in-a-multiclass-classification-settin/16001\n",
    "        microRecall : Recall calculated on a micro level\n",
    "        microF1 : Harmonic mean of microPrecision and microRecall. Higher value implies better classification  \n",
    "    \"\"\"\n",
    "    # [0.1, 0.3 , 0.2, 0.1] -> [0, 1, 0, 0]\n",
    "    discretePredictions = to_categorical(predictions.argmax(axis=1))\n",
    "    \n",
    "    truePositives = np.sum(discretePredictions*ground, axis=0)\n",
    "    falsePositives = np.sum(np.clip(discretePredictions - ground, 0, 1), axis=0)\n",
    "    falseNegatives = np.sum(np.clip(ground-discretePredictions, 0, 1), axis=0)\n",
    "    \n",
    "    if verbose:\n",
    "        print(\"True Positives per class : \", truePositives)\n",
    "        print(\"False Positives per class : \", falsePositives)\n",
    "        print(\"False Negatives per class : \", falseNegatives)\n",
    "    \n",
    "    # ------------- Macro level calculation ---------------\n",
    "    macroPrecision = 0\n",
    "    macroRecall = 0\n",
    "    # We ignore the \"Others\" class during the calculation of Precision, Recall and F1\n",
    "    for c in range(1, predictions.shape[1]):\n",
    "        precision = truePositives[c] / (truePositives[c] + falsePositives[c])\n",
    "        macroPrecision += precision\n",
    "        recall = truePositives[c] / (truePositives[c] + falseNegatives[c])\n",
    "        macroRecall += recall\n",
    "        f1 = ( 2 * recall * precision ) / (precision + recall) if (precision+recall) > 0 else 0\n",
    "        if verbose:\n",
    "            print(\"Class %s : Precision : %.3f, Recall : %.3f, F1 : %.3f\" % (label2emotion[c], precision, recall, f1))\n",
    "    \n",
    "    macroPrecision /= 3\n",
    "    macroRecall /= 3\n",
    "    macroF1 = (2 * macroRecall * macroPrecision ) / (macroPrecision + macroRecall) if (macroPrecision+macroRecall) > 0 else 0\n",
    "    if verbose:\n",
    "        print(\"Ignoring the Others class, Macro Precision : %.4f, Macro Recall : %.4f, Macro F1 : %.4f\" % (macroPrecision, macroRecall, macroF1))   \n",
    "    \n",
    "    # ------------- Micro level calculation ---------------\n",
    "    truePositives = truePositives[1:].sum()\n",
    "    falsePositives = falsePositives[1:].sum()\n",
    "    falseNegatives = falseNegatives[1:].sum()    \n",
    "    \n",
    "    if verbose:\n",
    "        print(\"Ignoring the Others class, Micro TP : %d, FP : %d, FN : %d\" % (truePositives, falsePositives, falseNegatives))\n",
    "    \n",
    "    microPrecision = truePositives / (truePositives + falsePositives)\n",
    "    microRecall = truePositives / (truePositives + falseNegatives)\n",
    "    \n",
    "    microF1 = ( 2 * microRecall * microPrecision ) / (microPrecision + microRecall) if (microPrecision+microRecall) > 0 else 0\n",
    "    # -----------------------------------------------------\n",
    "    \n",
    "    predictions = predictions.argmax(axis=1)\n",
    "    ground = ground.argmax(axis=1)\n",
    "    accuracy = np.mean(predictions==ground)\n",
    "    \n",
    "    if verbose:\n",
    "        print(\"Accuracy : %.4f, Micro Precision : %.4f, Micro Recall : %.4f, Micro F1 : %.4f\" % (accuracy, microPrecision, microRecall, microF1))\n",
    "    return accuracy, microPrecision, microRecall, microF1"
   ]
  },
  {
   "cell_type": "markdown",
   "metadata": {},
   "source": [
    "- create call back function"
   ]
  },
  {
   "cell_type": "code",
   "execution_count": 13,
   "metadata": {},
   "outputs": [],
   "source": [
    "dic = {'others': 0, 'angry': 1, 'sad': 2, 'happy': 3}\n",
    "\n",
    "metrics = {\n",
    "    \"f1_pn\": (lambda y_test, y_pred:\n",
    "              f1_score(y_test, y_pred, average='micro',\n",
    "                       labels=[dic['happy'],\n",
    "                               dic['sad'],\n",
    "                               dic['angry'],\n",
    "                               dic['others']])),\n",
    "    \"M_recall\": (\n",
    "        lambda y_test, y_pred: recall_score(y_test, y_pred, average='micro')),\n",
    "    \"M_precision\": (\n",
    "        lambda y_test, y_pred: precision_score(y_test, y_pred,\n",
    "                                               average='micro')),\n",
    "    \"pearson\": (\n",
    "        lambda y_test, y_pred: scipy.stats.pearsonr(y_test, y_pred)[0]),\n",
    "    \"f1\": (\n",
    "        lambda y_test, y_pred: getMetrics(to_categorical(y_test), to_categorical(y_pred))[3])\n",
    "}\n",
    "\n",
    "\n",
    "plotting = PlottingCallback(grid_ranges=(0.5, 0.75), height=5,\n",
    "                            benchmarks={\"SE17\": 0.681})\n",
    "\n",
    "\n",
    "checkpointer = ModelCheckpoint(filepath='/mnt/dd/modelv9.{epoch:02d}-{val_loss:.2f}.hdf5',\n",
    "                               monitor='val.macro_recall', mode=\"max\",\n",
    "                               verbose=1, save_best_only=False)\n",
    "#_callbacks.append(checkpointer)\n",
    "\n",
    "_datasets = {}\n",
    "_datasets[\"1-train\"] = (X_train, y_train)\n",
    "_datasets[\"2-val\"] = (X_test, y_test)\n",
    "_datasets[\"3-test\"] = (Xtest, Ytest)\n",
    "metrics_callback = MetricsCallback(datasets=_datasets, metrics=metrics)\n",
    "    \n",
    "    \n",
    "_callbacks = [metrics_callback, checkpointer]"
   ]
  },
  {
   "cell_type": "markdown",
   "metadata": {},
   "source": [
    "- some data for the models"
   ]
  },
  {
   "cell_type": "code",
   "execution_count": 14,
   "metadata": {},
   "outputs": [],
   "source": [
    "classes=4\n",
    "max_length=max_len\n",
    "unit=LSTM #LSTM / GRU\n",
    "layers=2\n",
    "cells=64 #150\n",
    "final_size = 100\n",
    "bidirectional=True\n",
    "attention=\"simple\"\n",
    "noise=0.2\n",
    "final_layer=False\n",
    "dropout_final=0.2 #0.4\n",
    "dropout_attention=0.4\n",
    "dropout_words=0.2\n",
    "dropout_rnn=0.2\n",
    "dropout_rnn_U=0.2\n",
    "clipnorm=1\n",
    "lr=0.01 #0.001\n",
    "loss_l2=0.001 #0.0001"
   ]
  },
  {
   "cell_type": "code",
   "execution_count": 15,
   "metadata": {
    "scrolled": false
   },
   "outputs": [
    {
     "name": "stderr",
     "output_type": "stream",
     "text": [
      "/home/arthur/anaconda3/envs/dlnlp/lib/python3.6/site-packages/ipykernel_launcher.py:5: UserWarning: Update your `LSTM` call to the Keras 2 API: `LSTM(64, return_sequences=\"context\", kernel_regularizer=<keras.reg..., recurrent_dropout=0.2, implementation=0)`\n",
      "  \"\"\"\n",
      "/home/arthur/anaconda3/envs/dlnlp/lib/python3.6/site-packages/keras/layers/recurrent.py:2150: UserWarning: `implementation=0` has been deprecated, and now defaults to `implementation=1`.Please update your layer call.\n",
      "  warnings.warn('`implementation=0` has been deprecated, '\n"
     ]
    },
    {
     "name": "stdout",
     "output_type": "stream",
     "text": [
      "(?, ?, 128) (?, ?, 128) (?, ?, 128)\n",
      "__________________________________________________________________________________________________\n",
      "Layer (type)                    Output Shape         Param #     Connected to                     \n",
      "==================================================================================================\n",
      "input_1 (InputLayer)            (None, 40)           0                                            \n",
      "__________________________________________________________________________________________________\n",
      "input_2 (InputLayer)            (None, 34)           0                                            \n",
      "__________________________________________________________________________________________________\n",
      "input_3 (InputLayer)            (None, 40)           0                                            \n",
      "__________________________________________________________________________________________________\n",
      "embedding_1 (Embedding)         (None, 40, 200)      131625000   input_1[0][0]                    \n",
      "__________________________________________________________________________________________________\n",
      "embedding_2 (Embedding)         (None, 34, 200)      131625000   input_2[0][0]                    \n",
      "__________________________________________________________________________________________________\n",
      "embedding_3 (Embedding)         (None, 40, 200)      131625000   input_3[0][0]                    \n",
      "__________________________________________________________________________________________________\n",
      "bidirectional_1 (Bidirectional) multiple             135680      embedding_1[0][0]                \n",
      "                                                                 embedding_2[0][0]                \n",
      "                                                                 embedding_3[0][0]                \n",
      "__________________________________________________________________________________________________\n",
      "dropout_1 (Dropout)             (None, 40, 128)      0           bidirectional_1[0][0]            \n",
      "__________________________________________________________________________________________________\n",
      "dropout_2 (Dropout)             (None, 34, 128)      0           bidirectional_1[1][0]            \n",
      "__________________________________________________________________________________________________\n",
      "dropout_3 (Dropout)             (None, 40, 128)      0           bidirectional_1[2][0]            \n",
      "__________________________________________________________________________________________________\n",
      "concatenate_1 (Concatenate)     (None, 114, 128)     0           dropout_1[0][0]                  \n",
      "                                                                 dropout_2[0][0]                  \n",
      "                                                                 dropout_3[0][0]                  \n",
      "__________________________________________________________________________________________________\n",
      "attention_with_context_1 (Atten (None, 128)          16640       concatenate_1[0][0]              \n",
      "__________________________________________________________________________________________________\n",
      "dense_1 (Dense)                 (None, 64)           8256        attention_with_context_1[0][0]   \n",
      "__________________________________________________________________________________________________\n",
      "dropout_4 (Dropout)             (None, 64)           0           dense_1[0][0]                    \n",
      "__________________________________________________________________________________________________\n",
      "dense_2 (Dense)                 (None, 32)           2080        dropout_4[0][0]                  \n",
      "__________________________________________________________________________________________________\n",
      "dropout_5 (Dropout)             (None, 32)           0           dense_2[0][0]                    \n",
      "__________________________________________________________________________________________________\n",
      "dense_3 (Dense)                 (None, 4)            132         dropout_5[0][0]                  \n",
      "==================================================================================================\n",
      "Total params: 395,037,788\n",
      "Trainable params: 395,037,788\n",
      "Non-trainable params: 0\n",
      "__________________________________________________________________________________________________\n"
     ]
    },
    {
     "name": "stderr",
     "output_type": "stream",
     "text": [
      "/home/arthur/anaconda3/envs/dlnlp/lib/python3.6/site-packages/ipykernel_launcher.py:65: UserWarning: Update your `Model` call to the Keras 2 API: `Model(inputs=[<tf.Tenso..., outputs=Tensor(\"de...)`\n"
     ]
    }
   ],
   "source": [
    "shared_RNN = get_RNN(unit, cells, bi=bidirectional, return_sequences='context',\n",
    "                         dropout_U=dropout_rnn_U)\n",
    "\n",
    "\n",
    "input_turn0 = Input(shape=[max_len[0]], dtype='int32')\n",
    "input_turn1 = Input(shape=[max_len[1]], dtype='int32')\n",
    "input_turn2 = Input(shape=[max_len[2]], dtype='int32')\n",
    "\n",
    "\n",
    "# Embeddings\n",
    "turn0_emb = Embedding(\n",
    "    input_dim=embeddings.shape[0],\n",
    "    output_dim=embeddings.shape[1],\n",
    "    input_length=max_len[0],\n",
    "    trainable=True,\n",
    "    mask_zero=True,\n",
    "    weights=[embeddings]\n",
    ")(input_turn0)\n",
    "\n",
    "turn1_emb = Embedding(\n",
    "    input_dim=embeddings.shape[0],\n",
    "    output_dim=embeddings.shape[1],\n",
    "    input_length=max_len[1],\n",
    "    trainable=True,\n",
    "    mask_zero=True,\n",
    "    weights=[embeddings]\n",
    ")(input_turn1)\n",
    "\n",
    "turn2_emb = Embedding(\n",
    "    input_dim=embeddings.shape[0],\n",
    "    output_dim=embeddings.shape[1],\n",
    "    input_length=max_len[2],\n",
    "    trainable=True,\n",
    "    mask_zero=True,\n",
    "    weights=[embeddings]\n",
    ")(input_turn2)\n",
    "\n",
    "\n",
    "# Recurrent NN\n",
    "h_turn0 = shared_RNN(turn0_emb)\n",
    "h_turn0 = Dropout(dropout_rnn_U)(h_turn0)\n",
    "\n",
    "\n",
    "h_turn1 = shared_RNN(turn1_emb)\n",
    "h_turn1 = Dropout(dropout_rnn_U)(h_turn1)\n",
    "\n",
    "\n",
    "h_turn2 = shared_RNN(turn2_emb)\n",
    "h_turn2 = Dropout(dropout_rnn_U)(h_turn2)\n",
    "\n",
    "\n",
    "print(h_turn0.shape, h_turn1.shape, h_turn2.shape)\n",
    "\n",
    "representation = concatenate([h_turn0, h_turn1, h_turn2], axis=1)\n",
    "representation = AttentionWithContext()(representation)\n",
    "representation = Dense(64, activation='linear')(representation)\n",
    "representation = Dropout(dropout_final)(representation)\n",
    "\n",
    "representation = Dense(32, activation='linear')(representation)\n",
    "representation = Dropout(dropout_final)(representation)\n",
    "\n",
    "\n",
    "probabilities = Dense(classes, activation=\"softmax\", activity_regularizer=l2(loss_l2))(representation)\n",
    "\n",
    "model = Model(input=[input_turn0, input_turn1, input_turn2], output=probabilities)\n",
    "\n",
    "model.compile(optimizer=Adam(clipnorm=clipnorm, lr=lr),\n",
    "              loss='categorical_crossentropy', metrics=['mae', 'accuracy'])\n",
    "\n",
    "model.summary()"
   ]
  },
  {
   "cell_type": "code",
   "execution_count": 16,
   "metadata": {},
   "outputs": [],
   "source": [
    "plot_model(model, to_file='model.png')"
   ]
  },
  {
   "cell_type": "markdown",
   "metadata": {},
   "source": [
    "![model](model.png)"
   ]
  },
  {
   "cell_type": "code",
   "execution_count": 16,
   "metadata": {
    "scrolled": true
   },
   "outputs": [
    {
     "name": "stderr",
     "output_type": "stream",
     "text": [
      "/home/arthur/anaconda3/envs/dlnlp/lib/python3.6/site-packages/tensorflow/python/ops/gradients_impl.py:105: UserWarning: Converting sparse IndexedSlices to a dense Tensor with 131625000 elements. This may consume a large amount of memory.\n",
      "  num_elements)\n",
      "/home/arthur/anaconda3/envs/dlnlp/lib/python3.6/site-packages/tensorflow/python/ops/gradients_impl.py:105: UserWarning: Converting sparse IndexedSlices to a dense Tensor with 131625000 elements. This may consume a large amount of memory.\n",
      "  num_elements)\n",
      "/home/arthur/anaconda3/envs/dlnlp/lib/python3.6/site-packages/tensorflow/python/ops/gradients_impl.py:105: UserWarning: Converting sparse IndexedSlices to a dense Tensor with 131625000 elements. This may consume a large amount of memory.\n",
      "  num_elements)\n",
      "/home/arthur/anaconda3/envs/dlnlp/lib/python3.6/site-packages/tensorflow/python/ops/gradients_impl.py:105: UserWarning: Converting sparse IndexedSlices to a dense Tensor with 131625000 elements. This may consume a large amount of memory.\n",
      "  num_elements)\n",
      "/home/arthur/anaconda3/envs/dlnlp/lib/python3.6/site-packages/tensorflow/python/ops/gradients_impl.py:105: UserWarning: Converting sparse IndexedSlices to a dense Tensor with 131625000 elements. This may consume a large amount of memory.\n",
      "  num_elements)\n",
      "/home/arthur/anaconda3/envs/dlnlp/lib/python3.6/site-packages/tensorflow/python/ops/gradients_impl.py:105: UserWarning: Converting sparse IndexedSlices to a dense Tensor with 131625000 elements. This may consume a large amount of memory.\n",
      "  num_elements)\n",
      "/home/arthur/anaconda3/envs/dlnlp/lib/python3.6/site-packages/tensorflow/python/ops/gradients_impl.py:105: UserWarning: Converting sparse IndexedSlices to a dense Tensor with 131625000 elements. This may consume a large amount of memory.\n",
      "  num_elements)\n",
      "/home/arthur/anaconda3/envs/dlnlp/lib/python3.6/site-packages/tensorflow/python/ops/gradients_impl.py:105: UserWarning: Converting sparse IndexedSlices to a dense Tensor with 131625000 elements. This may consume a large amount of memory.\n",
      "  num_elements)\n",
      "/home/arthur/anaconda3/envs/dlnlp/lib/python3.6/site-packages/tensorflow/python/ops/gradients_impl.py:105: UserWarning: Converting sparse IndexedSlices to a dense Tensor with 131625000 elements. This may consume a large amount of memory.\n",
      "  num_elements)\n"
     ]
    },
    {
     "name": "stdout",
     "output_type": "stream",
     "text": [
      "Train on 30160 samples, validate on 2755 samples\n",
      "Epoch 1/7\n"
     ]
    },
    {
     "ename": "ResourceExhaustedError",
     "evalue": "OOM when allocating tensor with shape[] and type int32 on /job:localhost/replica:0/task:0/device:CPU:0 by allocator mklcpu\n\t [[{{node bidirectional_1_2/while/Merge_1}} = Merge[N=2, T=DT_INT32, _class=[\"loc:@bidirectional_1_2/while/Switch_1\"], _device=\"/job:localhost/replica:0/task:0/device:CPU:0\"](bidirectional_1_2/while/Enter_1, bidirectional_1_2/while/NextIteration_1)]]\nHint: If you want to see a list of allocated tensors when OOM happens, add report_tensor_allocations_upon_oom to RunOptions for current allocation info.\n",
     "output_type": "error",
     "traceback": [
      "\u001b[0;31m---------------------------------------------------------------------------\u001b[0m",
      "\u001b[0;31mResourceExhaustedError\u001b[0m                    Traceback (most recent call last)",
      "\u001b[0;32m<ipython-input-16-c0aa43efc68c>\u001b[0m in \u001b[0;36m<module>\u001b[0;34m\u001b[0m\n\u001b[1;32m      1\u001b[0m \u001b[0mnb_epoch\u001b[0m \u001b[0;34m=\u001b[0m \u001b[0;36m7\u001b[0m\u001b[0;34m\u001b[0m\u001b[0;34m\u001b[0m\u001b[0m\n\u001b[1;32m      2\u001b[0m H = model.fit(X_train, y_train, epochs=nb_epoch, batch_size=100, validation_data=(X_test, y_test),\n\u001b[0;32m----> 3\u001b[0;31m               callbacks=_callbacks);\n\u001b[0m",
      "\u001b[0;32m~/anaconda3/envs/dlnlp/lib/python3.6/site-packages/keras/engine/training.py\u001b[0m in \u001b[0;36mfit\u001b[0;34m(self, x, y, batch_size, epochs, verbose, callbacks, validation_split, validation_data, shuffle, class_weight, sample_weight, initial_epoch, steps_per_epoch, validation_steps, **kwargs)\u001b[0m\n\u001b[1;32m   1037\u001b[0m                                         \u001b[0minitial_epoch\u001b[0m\u001b[0;34m=\u001b[0m\u001b[0minitial_epoch\u001b[0m\u001b[0;34m,\u001b[0m\u001b[0;34m\u001b[0m\u001b[0;34m\u001b[0m\u001b[0m\n\u001b[1;32m   1038\u001b[0m                                         \u001b[0msteps_per_epoch\u001b[0m\u001b[0;34m=\u001b[0m\u001b[0msteps_per_epoch\u001b[0m\u001b[0;34m,\u001b[0m\u001b[0;34m\u001b[0m\u001b[0;34m\u001b[0m\u001b[0m\n\u001b[0;32m-> 1039\u001b[0;31m                                         validation_steps=validation_steps)\n\u001b[0m\u001b[1;32m   1040\u001b[0m \u001b[0;34m\u001b[0m\u001b[0m\n\u001b[1;32m   1041\u001b[0m     def evaluate(self, x=None, y=None,\n",
      "\u001b[0;32m~/anaconda3/envs/dlnlp/lib/python3.6/site-packages/keras/engine/training_arrays.py\u001b[0m in \u001b[0;36mfit_loop\u001b[0;34m(model, f, ins, out_labels, batch_size, epochs, verbose, callbacks, val_f, val_ins, shuffle, callback_metrics, initial_epoch, steps_per_epoch, validation_steps)\u001b[0m\n\u001b[1;32m    197\u001b[0m                     \u001b[0mins_batch\u001b[0m\u001b[0;34m[\u001b[0m\u001b[0mi\u001b[0m\u001b[0;34m]\u001b[0m \u001b[0;34m=\u001b[0m \u001b[0mins_batch\u001b[0m\u001b[0;34m[\u001b[0m\u001b[0mi\u001b[0m\u001b[0;34m]\u001b[0m\u001b[0;34m.\u001b[0m\u001b[0mtoarray\u001b[0m\u001b[0;34m(\u001b[0m\u001b[0;34m)\u001b[0m\u001b[0;34m\u001b[0m\u001b[0;34m\u001b[0m\u001b[0m\n\u001b[1;32m    198\u001b[0m \u001b[0;34m\u001b[0m\u001b[0m\n\u001b[0;32m--> 199\u001b[0;31m                 \u001b[0mouts\u001b[0m \u001b[0;34m=\u001b[0m \u001b[0mf\u001b[0m\u001b[0;34m(\u001b[0m\u001b[0mins_batch\u001b[0m\u001b[0;34m)\u001b[0m\u001b[0;34m\u001b[0m\u001b[0;34m\u001b[0m\u001b[0m\n\u001b[0m\u001b[1;32m    200\u001b[0m                 \u001b[0mouts\u001b[0m \u001b[0;34m=\u001b[0m \u001b[0mto_list\u001b[0m\u001b[0;34m(\u001b[0m\u001b[0mouts\u001b[0m\u001b[0;34m)\u001b[0m\u001b[0;34m\u001b[0m\u001b[0;34m\u001b[0m\u001b[0m\n\u001b[1;32m    201\u001b[0m                 \u001b[0;32mfor\u001b[0m \u001b[0ml\u001b[0m\u001b[0;34m,\u001b[0m \u001b[0mo\u001b[0m \u001b[0;32min\u001b[0m \u001b[0mzip\u001b[0m\u001b[0;34m(\u001b[0m\u001b[0mout_labels\u001b[0m\u001b[0;34m,\u001b[0m \u001b[0mouts\u001b[0m\u001b[0;34m)\u001b[0m\u001b[0;34m:\u001b[0m\u001b[0;34m\u001b[0m\u001b[0;34m\u001b[0m\u001b[0m\n",
      "\u001b[0;32m~/anaconda3/envs/dlnlp/lib/python3.6/site-packages/keras/backend/tensorflow_backend.py\u001b[0m in \u001b[0;36m__call__\u001b[0;34m(self, inputs)\u001b[0m\n\u001b[1;32m   2713\u001b[0m                 \u001b[0;32mreturn\u001b[0m \u001b[0mself\u001b[0m\u001b[0;34m.\u001b[0m\u001b[0m_legacy_call\u001b[0m\u001b[0;34m(\u001b[0m\u001b[0minputs\u001b[0m\u001b[0;34m)\u001b[0m\u001b[0;34m\u001b[0m\u001b[0;34m\u001b[0m\u001b[0m\n\u001b[1;32m   2714\u001b[0m \u001b[0;34m\u001b[0m\u001b[0m\n\u001b[0;32m-> 2715\u001b[0;31m             \u001b[0;32mreturn\u001b[0m \u001b[0mself\u001b[0m\u001b[0;34m.\u001b[0m\u001b[0m_call\u001b[0m\u001b[0;34m(\u001b[0m\u001b[0minputs\u001b[0m\u001b[0;34m)\u001b[0m\u001b[0;34m\u001b[0m\u001b[0;34m\u001b[0m\u001b[0m\n\u001b[0m\u001b[1;32m   2716\u001b[0m         \u001b[0;32melse\u001b[0m\u001b[0;34m:\u001b[0m\u001b[0;34m\u001b[0m\u001b[0;34m\u001b[0m\u001b[0m\n\u001b[1;32m   2717\u001b[0m             \u001b[0;32mif\u001b[0m \u001b[0mpy_any\u001b[0m\u001b[0;34m(\u001b[0m\u001b[0mis_tensor\u001b[0m\u001b[0;34m(\u001b[0m\u001b[0mx\u001b[0m\u001b[0;34m)\u001b[0m \u001b[0;32mfor\u001b[0m \u001b[0mx\u001b[0m \u001b[0;32min\u001b[0m \u001b[0minputs\u001b[0m\u001b[0;34m)\u001b[0m\u001b[0;34m:\u001b[0m\u001b[0;34m\u001b[0m\u001b[0;34m\u001b[0m\u001b[0m\n",
      "\u001b[0;32m~/anaconda3/envs/dlnlp/lib/python3.6/site-packages/keras/backend/tensorflow_backend.py\u001b[0m in \u001b[0;36m_call\u001b[0;34m(self, inputs)\u001b[0m\n\u001b[1;32m   2673\u001b[0m             \u001b[0mfetched\u001b[0m \u001b[0;34m=\u001b[0m \u001b[0mself\u001b[0m\u001b[0;34m.\u001b[0m\u001b[0m_callable_fn\u001b[0m\u001b[0;34m(\u001b[0m\u001b[0;34m*\u001b[0m\u001b[0marray_vals\u001b[0m\u001b[0;34m,\u001b[0m \u001b[0mrun_metadata\u001b[0m\u001b[0;34m=\u001b[0m\u001b[0mself\u001b[0m\u001b[0;34m.\u001b[0m\u001b[0mrun_metadata\u001b[0m\u001b[0;34m)\u001b[0m\u001b[0;34m\u001b[0m\u001b[0;34m\u001b[0m\u001b[0m\n\u001b[1;32m   2674\u001b[0m         \u001b[0;32melse\u001b[0m\u001b[0;34m:\u001b[0m\u001b[0;34m\u001b[0m\u001b[0;34m\u001b[0m\u001b[0m\n\u001b[0;32m-> 2675\u001b[0;31m             \u001b[0mfetched\u001b[0m \u001b[0;34m=\u001b[0m \u001b[0mself\u001b[0m\u001b[0;34m.\u001b[0m\u001b[0m_callable_fn\u001b[0m\u001b[0;34m(\u001b[0m\u001b[0;34m*\u001b[0m\u001b[0marray_vals\u001b[0m\u001b[0;34m)\u001b[0m\u001b[0;34m\u001b[0m\u001b[0;34m\u001b[0m\u001b[0m\n\u001b[0m\u001b[1;32m   2676\u001b[0m         \u001b[0;32mreturn\u001b[0m \u001b[0mfetched\u001b[0m\u001b[0;34m[\u001b[0m\u001b[0;34m:\u001b[0m\u001b[0mlen\u001b[0m\u001b[0;34m(\u001b[0m\u001b[0mself\u001b[0m\u001b[0;34m.\u001b[0m\u001b[0moutputs\u001b[0m\u001b[0;34m)\u001b[0m\u001b[0;34m]\u001b[0m\u001b[0;34m\u001b[0m\u001b[0;34m\u001b[0m\u001b[0m\n\u001b[1;32m   2677\u001b[0m \u001b[0;34m\u001b[0m\u001b[0m\n",
      "\u001b[0;32m~/anaconda3/envs/dlnlp/lib/python3.6/site-packages/tensorflow/python/client/session.py\u001b[0m in \u001b[0;36m__call__\u001b[0;34m(self, *args, **kwargs)\u001b[0m\n\u001b[1;32m   1397\u001b[0m           ret = tf_session.TF_SessionRunCallable(\n\u001b[1;32m   1398\u001b[0m               \u001b[0mself\u001b[0m\u001b[0;34m.\u001b[0m\u001b[0m_session\u001b[0m\u001b[0;34m.\u001b[0m\u001b[0m_session\u001b[0m\u001b[0;34m,\u001b[0m \u001b[0mself\u001b[0m\u001b[0;34m.\u001b[0m\u001b[0m_handle\u001b[0m\u001b[0;34m,\u001b[0m \u001b[0margs\u001b[0m\u001b[0;34m,\u001b[0m \u001b[0mstatus\u001b[0m\u001b[0;34m,\u001b[0m\u001b[0;34m\u001b[0m\u001b[0;34m\u001b[0m\u001b[0m\n\u001b[0;32m-> 1399\u001b[0;31m               run_metadata_ptr)\n\u001b[0m\u001b[1;32m   1400\u001b[0m         \u001b[0;32mif\u001b[0m \u001b[0mrun_metadata\u001b[0m\u001b[0;34m:\u001b[0m\u001b[0;34m\u001b[0m\u001b[0;34m\u001b[0m\u001b[0m\n\u001b[1;32m   1401\u001b[0m           \u001b[0mproto_data\u001b[0m \u001b[0;34m=\u001b[0m \u001b[0mtf_session\u001b[0m\u001b[0;34m.\u001b[0m\u001b[0mTF_GetBuffer\u001b[0m\u001b[0;34m(\u001b[0m\u001b[0mrun_metadata_ptr\u001b[0m\u001b[0;34m)\u001b[0m\u001b[0;34m\u001b[0m\u001b[0;34m\u001b[0m\u001b[0m\n",
      "\u001b[0;32m~/anaconda3/envs/dlnlp/lib/python3.6/site-packages/tensorflow/python/framework/errors_impl.py\u001b[0m in \u001b[0;36m__exit__\u001b[0;34m(self, type_arg, value_arg, traceback_arg)\u001b[0m\n\u001b[1;32m    524\u001b[0m             \u001b[0;32mNone\u001b[0m\u001b[0;34m,\u001b[0m \u001b[0;32mNone\u001b[0m\u001b[0;34m,\u001b[0m\u001b[0;34m\u001b[0m\u001b[0;34m\u001b[0m\u001b[0m\n\u001b[1;32m    525\u001b[0m             \u001b[0mcompat\u001b[0m\u001b[0;34m.\u001b[0m\u001b[0mas_text\u001b[0m\u001b[0;34m(\u001b[0m\u001b[0mc_api\u001b[0m\u001b[0;34m.\u001b[0m\u001b[0mTF_Message\u001b[0m\u001b[0;34m(\u001b[0m\u001b[0mself\u001b[0m\u001b[0;34m.\u001b[0m\u001b[0mstatus\u001b[0m\u001b[0;34m.\u001b[0m\u001b[0mstatus\u001b[0m\u001b[0;34m)\u001b[0m\u001b[0;34m)\u001b[0m\u001b[0;34m,\u001b[0m\u001b[0;34m\u001b[0m\u001b[0;34m\u001b[0m\u001b[0m\n\u001b[0;32m--> 526\u001b[0;31m             c_api.TF_GetCode(self.status.status))\n\u001b[0m\u001b[1;32m    527\u001b[0m     \u001b[0;31m# Delete the underlying status object from memory otherwise it stays alive\u001b[0m\u001b[0;34m\u001b[0m\u001b[0;34m\u001b[0m\u001b[0;34m\u001b[0m\u001b[0m\n\u001b[1;32m    528\u001b[0m     \u001b[0;31m# as there is a reference to status from this from the traceback due to\u001b[0m\u001b[0;34m\u001b[0m\u001b[0;34m\u001b[0m\u001b[0;34m\u001b[0m\u001b[0m\n",
      "\u001b[0;31mResourceExhaustedError\u001b[0m: OOM when allocating tensor with shape[] and type int32 on /job:localhost/replica:0/task:0/device:CPU:0 by allocator mklcpu\n\t [[{{node bidirectional_1_2/while/Merge_1}} = Merge[N=2, T=DT_INT32, _class=[\"loc:@bidirectional_1_2/while/Switch_1\"], _device=\"/job:localhost/replica:0/task:0/device:CPU:0\"](bidirectional_1_2/while/Enter_1, bidirectional_1_2/while/NextIteration_1)]]\nHint: If you want to see a list of allocated tensors when OOM happens, add report_tensor_allocations_upon_oom to RunOptions for current allocation info.\n"
     ]
    }
   ],
   "source": [
    "nb_epoch = 7\n",
    "H = model.fit(X_train, y_train, epochs=nb_epoch, batch_size=100, validation_data=(X_test, y_test),\n",
    "              callbacks=_callbacks);"
   ]
  },
  {
   "cell_type": "code",
   "execution_count": null,
   "metadata": {},
   "outputs": [],
   "source": [
    "generate_plot(H, nb_epoch)"
   ]
  },
  {
   "cell_type": "markdown",
   "metadata": {},
   "source": [
    "### Load a model, print metrics and save it as required format"
   ]
  },
  {
   "cell_type": "code",
   "execution_count": 15,
   "metadata": {},
   "outputs": [
    {
     "name": "stderr",
     "output_type": "stream",
     "text": [
      "/home/arthur/anaconda3/envs/dlnlp/lib/python3.6/site-packages/keras/engine/saving.py:327: UserWarning: Error in loading the saved optimizer state. As a result, your model is starting with a freshly initialized optimizer.\n",
      "  warnings.warn('Error in loading the saved optimizer '\n"
     ]
    }
   ],
   "source": [
    "loaded_model = None\n",
    "with CustomObjectScope({'Attention': Attention, 'AttentionWithContext': AttentionWithContext}):\n",
    "    loaded_model = load_model('/mnt/dd/modelv6.04-0.47.hdf5')"
   ]
  },
  {
   "cell_type": "code",
   "execution_count": 18,
   "metadata": {},
   "outputs": [
    {
     "name": "stdout",
     "output_type": "stream",
     "text": [
      "__________________________________________________________________________________________________\n",
      "Layer (type)                    Output Shape         Param #     Connected to                     \n",
      "==================================================================================================\n",
      "input_1 (InputLayer)            (None, 40)           0                                            \n",
      "__________________________________________________________________________________________________\n",
      "input_2 (InputLayer)            (None, 34)           0                                            \n",
      "__________________________________________________________________________________________________\n",
      "input_3 (InputLayer)            (None, 40)           0                                            \n",
      "__________________________________________________________________________________________________\n",
      "embedding_1 (Embedding)         (None, 40, 100)      65812500    input_1[0][0]                    \n",
      "__________________________________________________________________________________________________\n",
      "embedding_2 (Embedding)         (None, 34, 100)      65812500    input_2[0][0]                    \n",
      "__________________________________________________________________________________________________\n",
      "embedding_3 (Embedding)         (None, 40, 100)      65812500    input_3[0][0]                    \n",
      "__________________________________________________________________________________________________\n",
      "bidirectional_1 (Bidirectional) multiple             84480       embedding_1[0][0]                \n",
      "                                                                 embedding_2[0][0]                \n",
      "                                                                 embedding_3[0][0]                \n",
      "__________________________________________________________________________________________________\n",
      "dropout_1 (Dropout)             (None, 40, 128)      0           bidirectional_1[0][0]            \n",
      "__________________________________________________________________________________________________\n",
      "dropout_2 (Dropout)             (None, 34, 128)      0           bidirectional_1[1][0]            \n",
      "__________________________________________________________________________________________________\n",
      "dropout_3 (Dropout)             (None, 40, 128)      0           bidirectional_1[2][0]            \n",
      "__________________________________________________________________________________________________\n",
      "concatenate_1 (Concatenate)     (None, 114, 128)     0           dropout_1[0][0]                  \n",
      "                                                                 dropout_2[0][0]                  \n",
      "                                                                 dropout_3[0][0]                  \n",
      "__________________________________________________________________________________________________\n",
      "attention_with_context_1 (Atten (None, 128)          16640       concatenate_1[0][0]              \n",
      "__________________________________________________________________________________________________\n",
      "dense_1 (Dense)                 (None, 64)           8256        attention_with_context_1[0][0]   \n",
      "__________________________________________________________________________________________________\n",
      "dropout_4 (Dropout)             (None, 64)           0           dense_1[0][0]                    \n",
      "__________________________________________________________________________________________________\n",
      "dense_2 (Dense)                 (None, 32)           2080        dropout_4[0][0]                  \n",
      "__________________________________________________________________________________________________\n",
      "dropout_5 (Dropout)             (None, 32)           0           dense_2[0][0]                    \n",
      "__________________________________________________________________________________________________\n",
      "dense_3 (Dense)                 (None, 4)            132         dropout_5[0][0]                  \n",
      "==================================================================================================\n",
      "Total params: 197,549,088\n",
      "Trainable params: 197,549,088\n",
      "Non-trainable params: 0\n",
      "__________________________________________________________________________________________________\n"
     ]
    }
   ],
   "source": [
    "loaded_model.summary()"
   ]
  },
  {
   "cell_type": "code",
   "execution_count": 31,
   "metadata": {},
   "outputs": [
    {
     "data": {
      "text/plain": [
       "(5509, 4)"
      ]
     },
     "execution_count": 31,
     "metadata": {},
     "output_type": "execute_result"
    }
   ],
   "source": [
    "res = loaded_model.predict(Xres)\n",
    "res.shape"
   ]
  },
  {
   "cell_type": "code",
   "execution_count": 17,
   "metadata": {},
   "outputs": [
    {
     "name": "stdout",
     "output_type": "stream",
     "text": [
      "True Positives per class :  [2111.8643    121.84339    91.2878    103.740875]\n",
      "False Positives per class :  [226.13838   28.156614  33.712208  38.25909 ]\n",
      "False Negatives per class :  [ 82.5685   114.306816  46.931156  82.45989 ]\n",
      "Class angry : Precision : 0.812, Recall : 0.516, F1 : 0.631\n",
      "Class sad : Precision : 0.730, Recall : 0.660, F1 : 0.694\n",
      "Class happy : Precision : 0.731, Recall : 0.557, F1 : 0.632\n",
      "Ignoring the Others class, Macro Precision : 0.7577, Macro Recall : 0.5779, Macro F1 : 0.6557\n",
      "Ignoring the Others class, Micro TP : 316, FP : 100, FN : 243\n",
      "Accuracy : 0.9013, Micro Precision : 0.7599, Micro Recall : 0.5653, Micro F1 : 0.6483\n"
     ]
    },
    {
     "data": {
      "text/plain": [
       "(0.9012704174228675, 0.7598851, 0.5652677, 0.6482852216741343)"
      ]
     },
     "execution_count": 17,
     "metadata": {},
     "output_type": "execute_result"
    }
   ],
   "source": [
    "from keras.utils import np_utils\n",
    "\n",
    "dic = {'others': 0, 'angry': 1, 'sad': 2, 'happy': 3}\n",
    "\n",
    "getMetrics(Ytest, res, verbose=True)"
   ]
  },
  {
   "cell_type": "code",
   "execution_count": 33,
   "metadata": {},
   "outputs": [],
   "source": [
    "dic_inv = {0: 'others', 1: 'angry', 2: 'sad', 3: 'happy'}\n",
    "res_txt = [dic_inv[np.argmax(r)] for r in res]\n",
    "df = pd.read_csv('../data/testwithoutlabels.txt', sep='\\t', index_col=0)\n",
    "df['label'] = res_txt\n",
    "df.head()\n",
    "df.to_csv('../res.txt', sep='\\t')"
   ]
  },
  {
   "cell_type": "code",
   "execution_count": null,
   "metadata": {},
   "outputs": [],
   "source": []
  }
 ],
 "metadata": {
  "kernelspec": {
   "display_name": "Python (dlnlp)",
   "language": "python",
   "name": "dlnlp"
  },
  "language_info": {
   "codemirror_mode": {
    "name": "ipython",
    "version": 3
   },
   "file_extension": ".py",
   "mimetype": "text/x-python",
   "name": "python",
   "nbconvert_exporter": "python",
   "pygments_lexer": "ipython3",
   "version": "3.6.8"
  }
 },
 "nbformat": 4,
 "nbformat_minor": 2
}
