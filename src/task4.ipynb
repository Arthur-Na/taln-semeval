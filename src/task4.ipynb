{
 "cells": [
  {
   "cell_type": "code",
   "execution_count": 1,
   "metadata": {},
   "outputs": [
    {
     "name": "stderr",
     "output_type": "stream",
     "text": [
      "Using TensorFlow backend.\n",
      "/home/arthur/anaconda3/envs/dlnlp/lib/python3.6/site-packages/kutilities/callbacks.py:6: UserWarning: matplotlib.pyplot as already been imported, this call will have no effect.\n",
      "  matplotlib.use('TkAgg')\n"
     ]
    }
   ],
   "source": [
    "import numpy as np\n",
    "import os\n",
    "import sys\n",
    "import pickle\n",
    "import pandas as pd\n",
    "from multiprocessing import Pool\n",
    "%matplotlib inline\n",
    "import matplotlib.pyplot as plt\n",
    "\n",
    "from ekphrasis.classes.preprocessor import TextPreProcessor\n",
    "from ekphrasis.classes.tokenizer import SocialTokenizer\n",
    "from ekphrasis.dicts.emoticons import emoticons\n",
    "\n",
    "from sklearn.model_selection import train_test_split\n",
    "from keras.constraints import maxnorm\n",
    "from keras.engine import Input\n",
    "from keras.engine import Model\n",
    "from keras.layers import Dropout, Dense, Bidirectional, LSTM, \\\n",
    "    Embedding, GaussianNoise, Activation, Flatten, \\\n",
    "    RepeatVector, MaxoutDense, GlobalMaxPooling1D, \\\n",
    "    Convolution1D, MaxPooling1D, concatenate, Conv1D, GRU\n",
    "from keras.models import Sequential\n",
    "from keras.optimizers import Adam\n",
    "from keras.regularizers import l2\n",
    "from kutilities.layers import AttentionWithContext, Attention, MeanOverTime\n",
    "from kutilities.helpers.data_preparation import print_dataset_statistics, \\\n",
    "labels_to_categories, categories_to_onehot\n",
    "from sklearn.metrics import f1_score, precision_score\n",
    "from sklearn.metrics import recall_score\n",
    "from kutilities.callbacks import MetricsCallback, PlottingCallback\n",
    "from kutilities.helpers.data_preparation import get_labels_to_categories_map, \\\n",
    "get_class_weights2, onehot_to_categories\n",
    "from keras.callbacks import ModelCheckpoint\n",
    "import scipy.stats\n",
    "import keras\n",
    "from keras.utils import np_utils\n",
    "from keras.models import load_model\n",
    "from keras.utils import CustomObjectScope\n",
    "\n",
    "from sklearn.model_selection import StratifiedKFold"
   ]
  },
  {
   "cell_type": "code",
   "execution_count": 2,
   "metadata": {},
   "outputs": [],
   "source": [
    "embedding_dim = 300\n",
    "if os.path.exists('../data/datastories.twitter.300d.pickle'):\n",
    "    with open('../data/datastories.twitter.300d.pickle', 'rb') as f:\n",
    "        wv_data = pickle.load(f)\n",
    "\n",
    "wv_data[\"<unk>\"] = np.random.uniform(low=-0.05, high=0.05, size=embedding_dim)\n",
    "wv_data[\"<pad>\"] = np.zeros(embedding_dim)\n",
    "        \n",
    "embeddings = np.zeros((len(wv_data), embedding_dim), dtype=np.float32)\n",
    "wv_id = dict()\n",
    "for i, (w, v) in enumerate(wv_data.items()):\n",
    "    embeddings[i] = v.copy()\n",
    "    wv_id[w] = i\n",
    "    "
   ]
  },
  {
   "cell_type": "code",
   "execution_count": 3,
   "metadata": {},
   "outputs": [
    {
     "name": "stdout",
     "output_type": "stream",
     "text": [
      "Reading twitter - 1grams ...\n",
      "Reading twitter - 2grams ...\n",
      "Reading twitter - 1grams ...\n"
     ]
    }
   ],
   "source": [
    "text_processor = TextPreProcessor(\n",
    "    backoff=['url', 'email', 'percent', 'money', 'phone', 'user',\n",
    "             'time', 'url', 'date', 'number'],\n",
    "    include_tags={\"hashtag\", \"allcaps\", \"elongated\", \"repeated\",\n",
    "                  'emphasis', 'censored'},\n",
    "    fix_html=True,\n",
    "    segmenter=\"twitter\",\n",
    "    corrector=\"twitter\",\n",
    "    unpack_hashtags=True,\n",
    "    unpack_contractions=True,\n",
    "    spell_correct_elong=False,\n",
    "    tokenizer=SocialTokenizer(lowercase=True).tokenize, dicts=[emoticons]\n",
    ")\n",
    "\n",
    "#text_processor.pre_process_doc('the quick brown fox jumped over the lazy dog')"
   ]
  },
  {
   "cell_type": "code",
   "execution_count": 4,
   "metadata": {},
   "outputs": [
    {
     "name": "stdout",
     "output_type": "stream",
     "text": [
      "['angry' 'others' 'happy' 'sad']\n",
      "(2755, 4) (2755,)\n"
     ]
    },
    {
     "data": {
      "text/html": [
       "<div>\n",
       "<style scoped>\n",
       "    .dataframe tbody tr th:only-of-type {\n",
       "        vertical-align: middle;\n",
       "    }\n",
       "\n",
       "    .dataframe tbody tr th {\n",
       "        vertical-align: top;\n",
       "    }\n",
       "\n",
       "    .dataframe thead th {\n",
       "        text-align: right;\n",
       "    }\n",
       "</style>\n",
       "<table border=\"1\" class=\"dataframe\">\n",
       "  <thead>\n",
       "    <tr style=\"text-align: right;\">\n",
       "      <th></th>\n",
       "      <th>turn1</th>\n",
       "      <th>turn2</th>\n",
       "      <th>turn3</th>\n",
       "      <th>label</th>\n",
       "    </tr>\n",
       "    <tr>\n",
       "      <th>id</th>\n",
       "      <th></th>\n",
       "      <th></th>\n",
       "      <th></th>\n",
       "      <th></th>\n",
       "    </tr>\n",
       "  </thead>\n",
       "  <tbody>\n",
       "    <tr>\n",
       "      <th>0</th>\n",
       "      <td>Then dont ask me</td>\n",
       "      <td>YOURE A GUY NOT AS IF YOU WOULD UNDERSTAND</td>\n",
       "      <td>IM NOT A GUY FUCK OFF</td>\n",
       "      <td>angry</td>\n",
       "    </tr>\n",
       "    <tr>\n",
       "      <th>1</th>\n",
       "      <td>Mixed things  such as??</td>\n",
       "      <td>the things you do.</td>\n",
       "      <td>Have you seen minions??</td>\n",
       "      <td>others</td>\n",
       "    </tr>\n",
       "    <tr>\n",
       "      <th>2</th>\n",
       "      <td>Today I'm very happy</td>\n",
       "      <td>and I'm happy for you ❤</td>\n",
       "      <td>I will be marry</td>\n",
       "      <td>happy</td>\n",
       "    </tr>\n",
       "    <tr>\n",
       "      <th>3</th>\n",
       "      <td>Woah bring me some</td>\n",
       "      <td>left it there oops</td>\n",
       "      <td>Brb</td>\n",
       "      <td>others</td>\n",
       "    </tr>\n",
       "    <tr>\n",
       "      <th>4</th>\n",
       "      <td>it is thooooo</td>\n",
       "      <td>I said soon master.</td>\n",
       "      <td>he is pressuring me</td>\n",
       "      <td>others</td>\n",
       "    </tr>\n",
       "  </tbody>\n",
       "</table>\n",
       "</div>"
      ],
      "text/plain": [
       "                      turn1                                       turn2  \\\n",
       "id                                                                        \n",
       "0          Then dont ask me  YOURE A GUY NOT AS IF YOU WOULD UNDERSTAND   \n",
       "1   Mixed things  such as??                          the things you do.   \n",
       "2      Today I'm very happy                     and I'm happy for you ❤   \n",
       "3        Woah bring me some                          left it there oops   \n",
       "4             it is thooooo                         I said soon master.   \n",
       "\n",
       "                      turn3   label  \n",
       "id                                   \n",
       "0     IM NOT A GUY FUCK OFF   angry  \n",
       "1   Have you seen minions??  others  \n",
       "2           I will be marry   happy  \n",
       "3                       Brb  others  \n",
       "4       he is pressuring me  others  "
      ]
     },
     "execution_count": 4,
     "metadata": {},
     "output_type": "execute_result"
    }
   ],
   "source": [
    "Xtest = []\n",
    "Ytest = []\n",
    "\n",
    "df = pd.read_csv('../data/dev_2019.txt', sep='\\t', index_col=0)\n",
    "Xtest = [df.turn1.values, df.turn2.values, df.turn3.values]\n",
    "Ytest = list(map(lambda x: {'others': 0, 'angry': 1, 'sad': 2, 'happy': 3}[x], df.label.values))\n",
    "Ytest = np_utils.to_categorical(Ytest)\n",
    "\n",
    "print(df.label.unique())\n",
    "print(Ytest.shape, Xtest[0].shape)\n",
    "\n",
    "df.head()"
   ]
  },
  {
   "cell_type": "code",
   "execution_count": 5,
   "metadata": {},
   "outputs": [
    {
     "name": "stdout",
     "output_type": "stream",
     "text": [
      "['others' 'angry' 'sad' 'happy']\n",
      "(30160, 4) (30160,)\n"
     ]
    },
    {
     "data": {
      "text/html": [
       "<div>\n",
       "<style scoped>\n",
       "    .dataframe tbody tr th:only-of-type {\n",
       "        vertical-align: middle;\n",
       "    }\n",
       "\n",
       "    .dataframe tbody tr th {\n",
       "        vertical-align: top;\n",
       "    }\n",
       "\n",
       "    .dataframe thead th {\n",
       "        text-align: right;\n",
       "    }\n",
       "</style>\n",
       "<table border=\"1\" class=\"dataframe\">\n",
       "  <thead>\n",
       "    <tr style=\"text-align: right;\">\n",
       "      <th></th>\n",
       "      <th>turn1</th>\n",
       "      <th>turn2</th>\n",
       "      <th>turn3</th>\n",
       "      <th>label</th>\n",
       "    </tr>\n",
       "    <tr>\n",
       "      <th>id</th>\n",
       "      <th></th>\n",
       "      <th></th>\n",
       "      <th></th>\n",
       "      <th></th>\n",
       "    </tr>\n",
       "  </thead>\n",
       "  <tbody>\n",
       "    <tr>\n",
       "      <th>0</th>\n",
       "      <td>Don't worry  I'm girl</td>\n",
       "      <td>hmm how do I know if you are</td>\n",
       "      <td>What's ur name?</td>\n",
       "      <td>others</td>\n",
       "    </tr>\n",
       "    <tr>\n",
       "      <th>1</th>\n",
       "      <td>When did I?</td>\n",
       "      <td>saw many times i think -_-</td>\n",
       "      <td>No. I never saw you</td>\n",
       "      <td>angry</td>\n",
       "    </tr>\n",
       "    <tr>\n",
       "      <th>2</th>\n",
       "      <td>By</td>\n",
       "      <td>by Google Chrome</td>\n",
       "      <td>Where you live</td>\n",
       "      <td>others</td>\n",
       "    </tr>\n",
       "    <tr>\n",
       "      <th>3</th>\n",
       "      <td>U r ridiculous</td>\n",
       "      <td>I might be ridiculous but I am telling the truth.</td>\n",
       "      <td>U little disgusting whore</td>\n",
       "      <td>angry</td>\n",
       "    </tr>\n",
       "    <tr>\n",
       "      <th>4</th>\n",
       "      <td>Just for time pass</td>\n",
       "      <td>wt do u do 4 a living then</td>\n",
       "      <td>Maybe</td>\n",
       "      <td>others</td>\n",
       "    </tr>\n",
       "  </tbody>\n",
       "</table>\n",
       "</div>"
      ],
      "text/plain": [
       "                    turn1                                              turn2  \\\n",
       "id                                                                             \n",
       "0   Don't worry  I'm girl                       hmm how do I know if you are   \n",
       "1             When did I?                         saw many times i think -_-   \n",
       "2                      By                                   by Google Chrome   \n",
       "3          U r ridiculous  I might be ridiculous but I am telling the truth.   \n",
       "4      Just for time pass                         wt do u do 4 a living then   \n",
       "\n",
       "                        turn3   label  \n",
       "id                                     \n",
       "0             What's ur name?  others  \n",
       "1         No. I never saw you   angry  \n",
       "2              Where you live  others  \n",
       "3   U little disgusting whore   angry  \n",
       "4                       Maybe  others  "
      ]
     },
     "execution_count": 5,
     "metadata": {},
     "output_type": "execute_result"
    }
   ],
   "source": [
    "Xtrain = []\n",
    "Ytrain = []\n",
    "\n",
    "df = pd.read_csv('../data/train.txt', sep='\\t', index_col=0)\n",
    "Xtrain = [df.turn1.values, df.turn2.values, df.turn3.values]\n",
    "\n",
    "Ytrain = list(map(lambda x: {'others': 0, 'angry': 1, 'sad': 2, 'happy': 3}[x], df.label.values))\n",
    "Ytrain = np_utils.to_categorical(Ytrain)\n",
    "\n",
    "#print(Xtrain.shape, Ytrain.shape)\n",
    "#print(Xtrain[1:3])\n",
    "print(df.label.unique())\n",
    "print(Ytrain.shape, Xtrain[0].shape)\n",
    "\n",
    "df.head()"
   ]
  },
  {
   "cell_type": "code",
   "execution_count": 6,
   "metadata": {},
   "outputs": [
    {
     "name": "stdout",
     "output_type": "stream",
     "text": [
      "[73, 34, 145]\n"
     ]
    }
   ],
   "source": [
    "def proces(s):\n",
    "    return text_processor.pre_process_doc(s)\n",
    "\n",
    "with Pool(processes=4) as pool:\n",
    "    Xtrain[0] = list(pool.map(proces, Xtrain[0]))\n",
    "    Xtrain[1] = list(pool.map(proces, Xtrain[1]))\n",
    "    Xtrain[2] = list(pool.map(proces, Xtrain[2]))\n",
    "    Xtest[0] = list(pool.map(proces, Xtest[0]))\n",
    "    Xtest[1] = list(pool.map(proces, Xtest[1]))\n",
    "    Xtest[2] = list(pool.map(proces, Xtest[2]))\n",
    "    max_len_0 = len(max(Xtrain[0], key=len))\n",
    "    max_len_1 = len(max(Xtrain[1], key=len))\n",
    "    max_len_2 = len(max(Xtrain[2], key=len))\n",
    "    \n",
    "max_len = [max_len_0, max_len_1, max_len_2]\n",
    "print(max_len)\n"
   ]
  },
  {
   "cell_type": "code",
   "execution_count": 7,
   "metadata": {},
   "outputs": [],
   "source": [
    "from collections import defaultdict\n",
    "h = [defaultdict(int), defaultdict(int), defaultdict(int)]\n",
    "\n",
    "for i, tur in enumerate(Xtrain):\n",
    "    for sen in tur:\n",
    "        h[i][len(sen)] += 1\n",
    "        \n",
    "hl = []\n",
    "for i in range(3):\n",
    "    hl.append([h[i][x] for x in range(max_len[i] + 1)])\n"
   ]
  },
  {
   "cell_type": "code",
   "execution_count": 8,
   "metadata": {},
   "outputs": [
    {
     "name": "stderr",
     "output_type": "stream",
     "text": [
      "/home/arthur/anaconda3/envs/dlnlp/lib/python3.6/site-packages/matplotlib/font_manager.py:1241: UserWarning: findfont: Font family ['serif'] not found. Falling back to DejaVu Sans.\n",
      "  (prop.get_family(), self.defaultFamily[fontext]))\n"
     ]
    },
    {
     "data": {
      "image/png": "[encoded data removed]",
      "text/plain": [
       "<Figure size 1080x360 with 3 Axes>"
      ]
     },
     "metadata": {
      "needs_background": "light"
     },
     "output_type": "display_data"
    }
   ],
   "source": [
    "plt.figure(figsize=(15,5))\n",
    "\n",
    "plt.subplot(1,3,1)\n",
    "plt.plot(range(max_len[0] + 1), hl[0])\n",
    "plt.yscale('log')\n",
    "\n",
    "plt.subplot(1,3,2)\n",
    "plt.plot(range(max_len[1] + 1), hl[1])\n",
    "plt.yscale('log')\n",
    "\n",
    "plt.subplot(1,3,3)\n",
    "plt.plot(range(max_len[2] + 1), hl[2])\n",
    "plt.yscale('log')\n",
    "\n",
    "max_len = [40, 34, 40]"
   ]
  },
  {
   "cell_type": "code",
   "execution_count": 9,
   "metadata": {},
   "outputs": [
    {
     "name": "stdout",
     "output_type": "stream",
     "text": [
      "(30160, 40)\n",
      "(2755, 40)\n"
     ]
    }
   ],
   "source": [
    "for i in range(len(Xtrain)):\n",
    "    for j in range(len(Xtrain[i])):\n",
    "        for k in range(len(Xtrain[i][j])):\n",
    "            if Xtrain[i][j][k] not in wv_data.keys():\n",
    "                Xtrain[i][j][k] = wv_id['<unk>']\n",
    "            else:\n",
    "                Xtrain[i][j][k] = wv_id[Xtrain[i][j][k]]\n",
    "        Xtrain[i][j] = Xtrain[i][j][:max_len[i]]\n",
    "        Xtrain[i][j] += [wv_id['<pad>']] * (max_len[i] - len(Xtrain[i][j]))\n",
    "        #Xtrain[i][j] = np.array(Xtrain[i][j])\n",
    "    Xtrain[i] = np.array(Xtrain[i])\n",
    "#Xtrain = np.array(Xtrain)\n",
    "#print(Xtrain.shape)\n",
    "print(Xtrain[0].shape)\n",
    "\n",
    "for i in range(len(Xtest)):\n",
    "    for j in range(len(Xtest[i])):\n",
    "        for k in range(len(Xtest[i][j])):\n",
    "            if Xtest[i][j][k] not in wv_data.keys():\n",
    "                Xtest[i][j][k] = wv_id['<unk>']\n",
    "            else:\n",
    "                Xtest[i][j][k] = wv_id[Xtest[i][j][k]]\n",
    "        Xtest[i][j] = Xtest[i][j][:max_len[i]]\n",
    "        Xtest[i][j] += [wv_id['<pad>']] * (max_len[i] - len(Xtest[i][j]))\n",
    "        #Xtrain[i][j] = np.array(Xtrain[i][j])\n",
    "    Xtest[i] = np.array(Xtest[i])\n",
    "#Xtrain = np.array(Xtrain)\n",
    "#print(Xtrain.shape)\n",
    "print(Xtest[0].shape)"
   ]
  },
  {
   "cell_type": "code",
   "execution_count": 10,
   "metadata": {},
   "outputs": [
    {
     "name": "stdout",
     "output_type": "stream",
     "text": [
      "(24128, 40) (24128, 4)\n",
      "(8787, 40) (8787, 4)\n"
     ]
    }
   ],
   "source": [
    "X0_train, X0_test, X1_train, X1_test, X2_train, X2_test, y_train, y_test = \\\n",
    "    train_test_split(Xtrain[0], Xtrain[1], Xtrain[2], Ytrain, test_size=0.2)\n",
    "X_train = [X0_train, X1_train, X2_train]\n",
    "X_test = [np.concatenate((X0_test, Xtest[0]), axis=0),\n",
    "          np.concatenate((X1_test, Xtest[1]), axis=0),\n",
    "          np.concatenate((X2_test, Xtest[2]), axis=0)]\n",
    "y_test = np.concatenate((y_test, Ytest), axis=0)\n",
    "\n",
    "print(X_train[0].shape, y_train.shape)\n",
    "print(X_test[0].shape, y_test.shape)"
   ]
  },
  {
   "cell_type": "markdown",
   "metadata": {},
   "source": [
    "# Deep Learning"
   ]
  },
  {
   "cell_type": "code",
   "execution_count": 11,
   "metadata": {},
   "outputs": [],
   "source": [
    "import matplotlib\n",
    "def generate_plot(H, nb_epoch):\n",
    "    print(\"Generating plots...\")\n",
    "    sys.stdout.flush()\n",
    "    matplotlib.use(\"Agg\")\n",
    "    matplotlib.pyplot.style.use(\"ggplot\")\n",
    "    matplotlib.pyplot.figure()\n",
    "    N = nb_epoch\n",
    "    matplotlib.pyplot.plot(np.arange(0, N), H.history[\"loss\"], label=\"train_loss\")\n",
    "    matplotlib.pyplot.plot(np.arange(0, N), H.history[\"val_loss\"], label=\"val_loss\")\n",
    "    matplotlib.pyplot.title(\"Training Loss on diabetic retinopathy detection\")\n",
    "    matplotlib.pyplot.xlabel(\"Epoch #\")\n",
    "    matplotlib.pyplot.ylabel(\"Loss\")\n",
    "    matplotlib.pyplot.legend(loc=\"lower left\")\n",
    "\n",
    "    matplotlib.pyplot.figure()\n",
    "    matplotlib.pyplot.plot(np.arange(0, N), H.history[\"acc\"], label=\"train_acc\")\n",
    "    matplotlib.pyplot.plot(np.arange(0, N), H.history[\"val_acc\"], label=\"val_acc\")\n",
    "    matplotlib.pyplot.title(\"Training Accuracy on diabetic retinopathy detection\")\n",
    "    matplotlib.pyplot.xlabel(\"Epoch #\")\n",
    "    matplotlib.pyplot.ylabel(\"Accuracy\")\n",
    "    matplotlib.pyplot.legend(loc=\"lower left\")"
   ]
  },
  {
   "cell_type": "code",
   "execution_count": 12,
   "metadata": {},
   "outputs": [
    {
     "data": {
      "text/plain": [
       "{0: 14948, 1: 5506, 2: 5463, 3: 4243}"
      ]
     },
     "execution_count": 12,
     "metadata": {},
     "output_type": "execute_result"
    }
   ],
   "source": [
    "tmp_train = np.asarray(Ytrain).argmax(axis=-1)\n",
    "unique, counts = np.unique(tmp_train, return_counts=True)\n",
    "dict(zip(unique, counts))"
   ]
  },
  {
   "cell_type": "code",
   "execution_count": 13,
   "metadata": {},
   "outputs": [],
   "source": [
    "def get_RNN(unit=LSTM, cells=64, bi=False, return_sequences=True, dropout_U=0.,\n",
    "            consume_less='cpu', l2_reg=0):\n",
    "    rnn = unit(cells, return_sequences=return_sequences,\n",
    "               consume_less=consume_less, dropout_U=dropout_U,\n",
    "               W_regularizer=l2(l2_reg))\n",
    "    if bi:\n",
    "        return Bidirectional(rnn)\n",
    "    else:\n",
    "        return rnn"
   ]
  },
  {
   "cell_type": "code",
   "execution_count": 14,
   "metadata": {},
   "outputs": [],
   "source": [
    "#dic = {'negative': 0, 'neutral': 1, 'positive': 2}\n",
    "dic = {'others': 0, 'angry': 1, 'sad': 2, 'happy': 3}\n",
    "\n",
    "metrics = {\n",
    "    \"f1_pn\": (lambda y_test, y_pred:\n",
    "              f1_score(y_test, y_pred, average='macro',\n",
    "                       labels=[dic['happy'],\n",
    "                               dic['sad'],\n",
    "                               dic['angry'],\n",
    "                               dic['others']])),\n",
    "    \"M_recall\": (\n",
    "        lambda y_test, y_pred: recall_score(y_test, y_pred, average='macro')),\n",
    "    \"M_precision\": (\n",
    "        lambda y_test, y_pred: precision_score(y_test, y_pred,\n",
    "                                               average='macro')),\n",
    "    \"pearson\": (\n",
    "        lambda y_test, y_pred: scipy.stats.pearsonr(y_test, y_pred)[0])\n",
    "}\n",
    "\n",
    "#classes = ['positive', 'negative', 'neutral']\n",
    "#class_to_cat_mapping = get_labels_to_categories_map(classes)\n",
    "#cat_to_class_mapping = {v: k for k, v in\n",
    "#                        get_labels_to_categories_map(classes).items()}\n",
    "\n",
    "\n",
    "\n",
    "plotting = PlottingCallback(grid_ranges=(0.5, 0.75), height=5,\n",
    "                            benchmarks={\"SE17\": 0.681})\n",
    "\n",
    "#_callbacks = []\n",
    "#_callbacks.append(metrics_callback)\n",
    "#_callbacks.append(plotting)\n",
    "\n",
    "checkpointer = ModelCheckpoint(filepath='modelv2.{epoch:02d}-{val_loss:.2f}.hdf5',\n",
    "                               monitor='val.macro_recall', mode=\"max\",\n",
    "                               verbose=1, save_best_only=False)\n",
    "#_callbacks.append(checkpointer)\n",
    "\n",
    "_datasets = {}\n",
    "_datasets[\"1-train\"] = (X_train, y_train)\n",
    "_datasets[\"2-val\"] = (X_test, y_test)\n",
    "metrics_callback = MetricsCallback(datasets=_datasets, metrics=metrics)\n",
    "    \n",
    "    \n",
    "_callbacks = [metrics_callback, checkpointer]"
   ]
  },
  {
   "cell_type": "code",
   "execution_count": 15,
   "metadata": {},
   "outputs": [],
   "source": [
    "'''\n",
    "kfold = StratifiedKFold(n_splits=10, shuffle=True)\n",
    "X = np.array(Xtrain)\n",
    "Y = np.array(Ytrain)\n",
    "\n",
    "for train, test in kfold.split(X, Y):\n",
    "    _datasets = {}\n",
    "    _datasets[\"1-train\"] = (X[train], Y[train])\n",
    "    _datasets[\"2-val\"] = (X[test], Y[test])\n",
    "    metrics_callback = MetricsCallback(datasets=_datasets, metrics=metrics)\n",
    "    _callbacks = [metrics_callback]\n",
    "    \n",
    "    model.compile(optimizer=Adam(clipnorm=clipnorm, lr=lr), loss='categorical_crossentropy',\n",
    "                  metrics=['mae', 'accuracy'])\n",
    "    class_weights = get_class_weights2(onehot_to_categories(Ytrain), smooth_factor=0)\n",
    "    H = model.fit(X[train], Y[train], epochs=10, batch_size=50, validation_data=(Xtest, Ytest),\n",
    "              callbacks=_callbacks);#, class_weight=class_weights);\n",
    "''';"
   ]
  },
  {
   "cell_type": "code",
   "execution_count": 16,
   "metadata": {},
   "outputs": [],
   "source": [
    "\n",
    "#embeddings = np.array(list(wv_data.values()))\n",
    "classes=4\n",
    "max_length=max_len\n",
    "unit=GRU #LSTM\n",
    "layers=2\n",
    "cells=64 #150\n",
    "final_size = 100\n",
    "bidirectional=True\n",
    "attention=\"simple\"\n",
    "noise=0.2\n",
    "final_layer=False\n",
    "dropout_final=0.2 #0.4\n",
    "dropout_attention=0.4\n",
    "dropout_words=0.2\n",
    "dropout_rnn=0.2\n",
    "dropout_rnn_U=0.2\n",
    "clipnorm=1\n",
    "lr=0.01 #0.001\n",
    "loss_l2=0.001 #0.0001\n",
    "\n",
    "\n",
    "'''\n",
    "model = Sequential()\n",
    "model.add(Embedding(\n",
    "            input_dim=embeddings.shape[0],\n",
    "            output_dim=embeddings.shape[1],\n",
    "            input_length=max_len,\n",
    "            trainable=False,\n",
    "            mask_zero=True,\n",
    "            weights=[embeddings]\n",
    "))\n",
    "\n",
    "if noise > 0:\n",
    "    model.add(GaussianNoise(noise))\n",
    "if dropout_words > 0:\n",
    "    model.add(Dropout(dropout_words))\n",
    "\n",
    "for i in range(layers):\n",
    "    rs = (layers > 1 and i < layers - 1) or attention\n",
    "    model.add(get_RNN(unit, cells, bidirectional, return_sequences=rs,\n",
    "                      dropout_U=dropout_rnn_U))\n",
    "    if dropout_rnn > 0:\n",
    "        model.add(Dropout(dropout_rnn))\n",
    "\n",
    "if attention == \"memory\":\n",
    "    model.add(AttentionWithContext())\n",
    "    if dropout_attention > 0:\n",
    "        model.add(Dropout(dropout_attention))\n",
    "elif attention == \"simple\":\n",
    "    model.add(Attention())\n",
    "    if dropout_attention > 0:\n",
    "        model.add(Dropout(dropout_attention))\n",
    "\n",
    "if final_layer:\n",
    "    model.add(MaxoutDense(100, W_constraint=maxnorm(2)))\n",
    "    # model.add(Highway())\n",
    "    if dropout_final > 0:\n",
    "        model.add(Dropout(dropout_final))\n",
    "\n",
    "model.add(Dense(classes, activity_regularizer=l2(loss_l2)))\n",
    "model.add(Activation('softmax'))\n",
    "\n",
    "model.compile(optimizer=Adam(clipnorm=clipnorm, lr=lr),\n",
    "              loss='categorical_crossentropy', metrics=['mae', 'accuracy'])\n",
    "''';"
   ]
  },
  {
   "cell_type": "code",
   "execution_count": 17,
   "metadata": {},
   "outputs": [
    {
     "name": "stderr",
     "output_type": "stream",
     "text": [
      "/home/arthur/anaconda3/envs/dlnlp/lib/python3.6/site-packages/ipykernel_launcher.py:5: UserWarning: Update your `GRU` call to the Keras 2 API: `GRU(64, return_sequences=\"context\", kernel_regularizer=<keras.reg..., recurrent_dropout=0.2, implementation=0)`\n",
      "  \"\"\"\n",
      "/home/arthur/anaconda3/envs/dlnlp/lib/python3.6/site-packages/keras/layers/recurrent.py:1605: UserWarning: `implementation=0` has been deprecated, and now defaults to `implementation=1`.Please update your layer call.\n",
      "  warnings.warn('`implementation=0` has been deprecated, '\n",
      "/home/arthur/anaconda3/envs/dlnlp/lib/python3.6/site-packages/ipykernel_launcher.py:5: UserWarning: Update your `GRU` call to the Keras 2 API: `GRU(150, return_sequences=\"simple\", kernel_regularizer=<keras.reg..., recurrent_dropout=0.2, implementation=0)`\n",
      "  \"\"\"\n",
      "/home/arthur/anaconda3/envs/dlnlp/lib/python3.6/site-packages/keras/layers/recurrent.py:1605: UserWarning: `implementation=0` has been deprecated, and now defaults to `implementation=1`.Please update your layer call.\n",
      "  warnings.warn('`implementation=0` has been deprecated, '\n",
      "/home/arthur/anaconda3/envs/dlnlp/lib/python3.6/site-packages/ipykernel_launcher.py:5: UserWarning: Update your `GRU` call to the Keras 2 API: `GRU(64, return_sequences=\"simple\", kernel_regularizer=<keras.reg..., recurrent_dropout=0.2, implementation=0)`\n",
      "  \"\"\"\n",
      "/home/arthur/anaconda3/envs/dlnlp/lib/python3.6/site-packages/keras/layers/recurrent.py:1605: UserWarning: `implementation=0` has been deprecated, and now defaults to `implementation=1`.Please update your layer call.\n",
      "  warnings.warn('`implementation=0` has been deprecated, '\n"
     ]
    },
    {
     "name": "stdout",
     "output_type": "stream",
     "text": [
      "(?, ?, 128) (?, ?, 128) (?, ?, 128)\n",
      "__________________________________________________________________________________________________\n",
      "Layer (type)                    Output Shape         Param #     Connected to                     \n",
      "==================================================================================================\n",
      "input_1 (InputLayer)            (None, 40)           0                                            \n",
      "__________________________________________________________________________________________________\n",
      "input_2 (InputLayer)            (None, 34)           0                                            \n",
      "__________________________________________________________________________________________________\n",
      "input_3 (InputLayer)            (None, 40)           0                                            \n",
      "__________________________________________________________________________________________________\n",
      "embedding_1 (Embedding)         (None, 40, 300)      197437500   input_1[0][0]                    \n",
      "__________________________________________________________________________________________________\n",
      "embedding_2 (Embedding)         (None, 34, 300)      197437500   input_2[0][0]                    \n",
      "__________________________________________________________________________________________________\n",
      "embedding_3 (Embedding)         (None, 40, 300)      197437500   input_3[0][0]                    \n",
      "__________________________________________________________________________________________________\n",
      "gaussian_noise_1 (GaussianNoise (None, 40, 300)      0           embedding_1[0][0]                \n",
      "__________________________________________________________________________________________________\n",
      "gaussian_noise_2 (GaussianNoise (None, 34, 300)      0           embedding_2[0][0]                \n",
      "__________________________________________________________________________________________________\n",
      "gaussian_noise_3 (GaussianNoise (None, 40, 300)      0           embedding_3[0][0]                \n",
      "__________________________________________________________________________________________________\n",
      "dropout_1 (Dropout)             (None, 40, 300)      0           gaussian_noise_1[0][0]           \n",
      "__________________________________________________________________________________________________\n",
      "dropout_2 (Dropout)             (None, 34, 300)      0           gaussian_noise_2[0][0]           \n",
      "__________________________________________________________________________________________________\n",
      "dropout_3 (Dropout)             (None, 40, 300)      0           gaussian_noise_3[0][0]           \n",
      "__________________________________________________________________________________________________\n",
      "bidirectional_3 (Bidirectional) multiple             140160      dropout_1[0][0]                  \n",
      "                                                                 dropout_2[0][0]                  \n",
      "                                                                 dropout_3[0][0]                  \n",
      "__________________________________________________________________________________________________\n",
      "dropout_6 (Dropout)             (None, 40, 128)      0           bidirectional_3[0][0]            \n",
      "__________________________________________________________________________________________________\n",
      "dropout_9 (Dropout)             (None, 34, 128)      0           bidirectional_3[1][0]            \n",
      "__________________________________________________________________________________________________\n",
      "dropout_12 (Dropout)            (None, 40, 128)      0           bidirectional_3[2][0]            \n",
      "__________________________________________________________________________________________________\n",
      "concatenate_1 (Concatenate)     (None, 114, 128)     0           dropout_6[0][0]                  \n",
      "                                                                 dropout_9[0][0]                  \n",
      "                                                                 dropout_12[0][0]                 \n",
      "__________________________________________________________________________________________________\n",
      "attention_with_context_1 (Atten (None, 128)          16640       concatenate_1[0][0]              \n",
      "__________________________________________________________________________________________________\n",
      "dense_1 (Dense)                 (None, 100)          12900       attention_with_context_1[0][0]   \n",
      "__________________________________________________________________________________________________\n",
      "dropout_13 (Dropout)            (None, 100)          0           dense_1[0][0]                    \n",
      "__________________________________________________________________________________________________\n",
      "dense_2 (Dense)                 (None, 4)            404         dropout_13[0][0]                 \n",
      "==================================================================================================\n",
      "Total params: 592,482,604\n",
      "Trainable params: 170,104\n",
      "Non-trainable params: 592,312,500\n",
      "__________________________________________________________________________________________________\n"
     ]
    },
    {
     "name": "stderr",
     "output_type": "stream",
     "text": [
      "/home/arthur/anaconda3/envs/dlnlp/lib/python3.6/site-packages/ipykernel_launcher.py:83: UserWarning: Update your `Model` call to the Keras 2 API: `Model(inputs=[<tf.Tenso..., outputs=Tensor(\"de...)`\n"
     ]
    }
   ],
   "source": [
    "shared_RNN = get_RNN(unit, cells, bi=bidirectional, return_sequences='context',\n",
    "                         dropout_U=dropout_rnn_U)\n",
    "\n",
    "shared_RNN2 = get_RNN(unit, 150, bi=bidirectional, return_sequences='simple',\n",
    "                         dropout_U=dropout_rnn_U)\n",
    "\n",
    "shared_RNN3 = get_RNN(unit, 64, bi=bidirectional, return_sequences='simple',\n",
    "                         dropout_U=dropout_rnn_U)\n",
    "\n",
    "\n",
    "input_turn0 = Input(shape=[max_len[0]], dtype='int32')\n",
    "input_turn1 = Input(shape=[max_len[1]], dtype='int32')\n",
    "input_turn2 = Input(shape=[max_len[2]], dtype='int32')\n",
    "\n",
    "\n",
    "# Embeddings\n",
    "turn0_emb = Embedding(\n",
    "    input_dim=embeddings.shape[0],\n",
    "    output_dim=embeddings.shape[1],\n",
    "    input_length=max_len[0],\n",
    "    trainable=False,\n",
    "    mask_zero=True,\n",
    "    weights=[embeddings]\n",
    ")(input_turn0)\n",
    "turn0_emb = GaussianNoise(noise)(turn0_emb)\n",
    "turn0_emb = Dropout(dropout_words)(turn0_emb)\n",
    "\n",
    "\n",
    "turn1_emb = Embedding(\n",
    "    input_dim=embeddings.shape[0],\n",
    "    output_dim=embeddings.shape[1],\n",
    "    input_length=max_len[1],\n",
    "    trainable=False,\n",
    "    mask_zero=True,\n",
    "    weights=[embeddings]\n",
    ")(input_turn1)\n",
    "turn1_emb = GaussianNoise(noise)(turn1_emb)\n",
    "turn1_emb = Dropout(dropout_words)(turn1_emb)\n",
    "\n",
    "turn2_emb = Embedding(\n",
    "    input_dim=embeddings.shape[0],\n",
    "    output_dim=embeddings.shape[1],\n",
    "    input_length=max_len[2],\n",
    "    trainable=False,\n",
    "    mask_zero=True,\n",
    "    weights=[embeddings]\n",
    ")(input_turn2)\n",
    "turn2_emb = GaussianNoise(noise)(turn2_emb)\n",
    "turn2_emb = Dropout(dropout_words)(turn2_emb)\n",
    "\n",
    "\n",
    "# Recurrent NN\n",
    "h_turn0 = shared_RNN(turn0_emb)\n",
    "h_turn0 = Dropout(dropout_rnn_U)(h_turn0)\n",
    "h_turn0 = shared_RNN2(turn0_emb)\n",
    "h_turn0 = Dropout(dropout_rnn_U)(h_turn0)\n",
    "h_turn0 = shared_RNN3(turn0_emb)\n",
    "h_turn0 = Dropout(dropout_rnn_U)(h_turn0)\n",
    "\n",
    "h_turn1 = shared_RNN(turn1_emb)\n",
    "h_turn1 = Dropout(dropout_rnn_U)(h_turn1)\n",
    "h_turn1 = shared_RNN2(turn1_emb)\n",
    "h_turn1 = Dropout(dropout_rnn_U)(h_turn1)\n",
    "h_turn1 = shared_RNN3(turn1_emb)\n",
    "h_turn1 = Dropout(dropout_rnn_U)(h_turn1)\n",
    "\n",
    "h_turn2 = shared_RNN(turn2_emb)\n",
    "h_turn2 = Dropout(dropout_rnn_U)(h_turn2)\n",
    "h_turn2 = shared_RNN2(turn2_emb)\n",
    "h_turn2 = Dropout(dropout_rnn_U)(h_turn2)\n",
    "h_turn2 = shared_RNN3(turn2_emb)\n",
    "h_turn2 = Dropout(dropout_rnn_U)(h_turn2)\n",
    "\n",
    "print(h_turn0.shape, h_turn1.shape, h_turn2.shape)\n",
    "\n",
    "representation = concatenate([h_turn0, h_turn1, h_turn2], axis=1)\n",
    "representation = AttentionWithContext()(representation)\n",
    "representation = Dense(final_size, activation='linear')(representation)\n",
    "representation = Dropout(dropout_final)(representation)\n",
    "\n",
    "probabilities = Dense(classes, activation=\"softmax\", activity_regularizer=l2(loss_l2))(representation)\n",
    "\n",
    "model = Model(input=[input_turn0, input_turn1, input_turn2], output=probabilities)\n",
    "\n",
    "model.compile(optimizer=Adam(clipnorm=clipnorm, lr=lr),\n",
    "              loss='categorical_crossentropy', metrics=['mae', 'accuracy'])\n",
    "\n",
    "model.summary()"
   ]
  },
  {
   "cell_type": "code",
   "execution_count": 19,
   "metadata": {},
   "outputs": [
    {
     "name": "stdout",
     "output_type": "stream",
     "text": [
      "Train on 24128 samples, validate on 8787 samples\n",
      "Epoch 1/10\n",
      "24128/24128 [==============================] - 236s 10ms/step - loss: 0.6058 - mean_absolute_error: 0.1446 - acc: 0.7982 - val_loss: 0.5120 - val_mean_absolute_error: 0.1130 - val_acc: 0.8432\n",
      "         M_precision  M_recall     f1_pn   pearson\n",
      "1-train     0.838164  0.820977  0.826531  0.733631\n",
      "2-val       0.805377  0.811005  0.804983  0.707913\n",
      "\n",
      "\n",
      "Epoch 00001: saving model to modelv2.01-0.51.hdf5\n",
      "Epoch 2/10\n",
      "24128/24128 [==============================] - 240s 10ms/step - loss: 0.5679 - mean_absolute_error: 0.1337 - acc: 0.8144 - val_loss: 0.5272 - val_mean_absolute_error: 0.1229 - val_acc: 0.8403\n",
      "         M_precision  M_recall     f1_pn   pearson\n",
      "1-train     0.839439  0.863784  0.850272  0.761698\n",
      "2-val       0.780497  0.846374  0.808743  0.714535\n",
      "\n",
      "\n",
      "Epoch 00002: saving model to modelv2.02-0.53.hdf5\n",
      "Epoch 3/10\n",
      "24128/24128 [==============================] - 238s 10ms/step - loss: 0.5484 - mean_absolute_error: 0.1294 - acc: 0.8198 - val_loss: 0.5080 - val_mean_absolute_error: 0.1192 - val_acc: 0.8458\n",
      "         M_precision  M_recall     f1_pn   pearson\n",
      "1-train     0.853363  0.841076  0.843532  0.744206\n",
      "2-val       0.802752  0.823932  0.808648  0.708397\n",
      "\n",
      "\n",
      "Epoch 00003: saving model to modelv2.03-0.51.hdf5\n",
      "Epoch 4/10\n",
      "24128/24128 [==============================] - 236s 10ms/step - loss: 0.5459 - mean_absolute_error: 0.1276 - acc: 0.8202 - val_loss: 0.4876 - val_mean_absolute_error: 0.1036 - val_acc: 0.8536\n",
      "         M_precision  M_recall     f1_pn   pearson\n",
      "1-train     0.859839  0.865312  0.862436  0.775573\n",
      "2-val       0.801540  0.845844  0.821847  0.725529\n",
      "\n",
      "\n",
      "Epoch 00004: saving model to modelv2.04-0.49.hdf5\n",
      "Epoch 5/10\n",
      "24128/24128 [==============================] - 236s 10ms/step - loss: 0.5442 - mean_absolute_error: 0.1269 - acc: 0.8203 - val_loss: 0.5417 - val_mean_absolute_error: 0.1123 - val_acc: 0.8383\n",
      "         M_precision  M_recall     f1_pn   pearson\n",
      "1-train     0.840858  0.877156  0.856638  0.771251\n",
      "2-val       0.774784  0.855840  0.808701  0.711955\n",
      "\n",
      "\n",
      "Epoch 00005: saving model to modelv2.05-0.54.hdf5\n"
     ]
    },
    {
     "ename": "RuntimeError",
     "evalue": "Unable to flush file's cached information (file write failed: time = Thu Dec 13 18:38:32 2018\n, filename = 'modelv2.05-0.54.hdf5', file descriptor = 58, errno = 28, error message = 'No space left on device', buf = 0x556d70bf9570, total write size = 6144, bytes this sub-write = 6144, bytes actually written = 18446744073709551615, offset = 4096)",
     "output_type": "error",
     "traceback": [
      "\u001b[0;31m---------------------------------------------------------------------------\u001b[0m",
      "\u001b[0;31mOSError\u001b[0m                                   Traceback (most recent call last)",
      "\u001b[0;32m~/anaconda3/envs/dlnlp/lib/python3.6/site-packages/keras/engine/saving.py\u001b[0m in \u001b[0;36msave_model\u001b[0;34m(model, filepath, overwrite, include_optimizer)\u001b[0m\n\u001b[1;32m    381\u001b[0m     \u001b[0;32mtry\u001b[0m\u001b[0;34m:\u001b[0m\u001b[0;34m\u001b[0m\u001b[0m\n\u001b[0;32m--> 382\u001b[0;31m         \u001b[0m_serialize_model\u001b[0m\u001b[0;34m(\u001b[0m\u001b[0mmodel\u001b[0m\u001b[0;34m,\u001b[0m \u001b[0mf\u001b[0m\u001b[0;34m,\u001b[0m \u001b[0minclude_optimizer\u001b[0m\u001b[0;34m)\u001b[0m\u001b[0;34m\u001b[0m\u001b[0m\n\u001b[0m\u001b[1;32m    383\u001b[0m     \u001b[0;32mfinally\u001b[0m\u001b[0;34m:\u001b[0m\u001b[0;34m\u001b[0m\u001b[0m\n",
      "\u001b[0;32m~/anaconda3/envs/dlnlp/lib/python3.6/site-packages/keras/engine/saving.py\u001b[0m in \u001b[0;36m_serialize_model\u001b[0;34m(model, f, include_optimizer)\u001b[0m\n\u001b[1;32m    113\u001b[0m         \u001b[0;32mfor\u001b[0m \u001b[0mname\u001b[0m\u001b[0;34m,\u001b[0m \u001b[0mval\u001b[0m \u001b[0;32min\u001b[0m \u001b[0mzip\u001b[0m\u001b[0;34m(\u001b[0m\u001b[0mweight_names\u001b[0m\u001b[0;34m,\u001b[0m \u001b[0mweight_values\u001b[0m\u001b[0;34m)\u001b[0m\u001b[0;34m:\u001b[0m\u001b[0;34m\u001b[0m\u001b[0m\n\u001b[0;32m--> 114\u001b[0;31m             \u001b[0mlayer_group\u001b[0m\u001b[0;34m[\u001b[0m\u001b[0mname\u001b[0m\u001b[0;34m]\u001b[0m \u001b[0;34m=\u001b[0m \u001b[0mval\u001b[0m\u001b[0;34m\u001b[0m\u001b[0m\n\u001b[0m\u001b[1;32m    115\u001b[0m     \u001b[0;32mif\u001b[0m \u001b[0minclude_optimizer\u001b[0m \u001b[0;32mand\u001b[0m \u001b[0mmodel\u001b[0m\u001b[0;34m.\u001b[0m\u001b[0moptimizer\u001b[0m\u001b[0;34m:\u001b[0m\u001b[0;34m\u001b[0m\u001b[0m\n",
      "\u001b[0;32m~/anaconda3/envs/dlnlp/lib/python3.6/site-packages/keras/utils/io_utils.py\u001b[0m in \u001b[0;36m__setitem__\u001b[0;34m(self, attr, val)\u001b[0m\n\u001b[1;32m    222\u001b[0m             \u001b[0;32melse\u001b[0m\u001b[0;34m:\u001b[0m\u001b[0;34m\u001b[0m\u001b[0m\n\u001b[0;32m--> 223\u001b[0;31m                 \u001b[0mdataset\u001b[0m\u001b[0;34m[\u001b[0m\u001b[0;34m:\u001b[0m\u001b[0;34m]\u001b[0m \u001b[0;34m=\u001b[0m \u001b[0mval\u001b[0m\u001b[0;34m\u001b[0m\u001b[0m\n\u001b[0m\u001b[1;32m    224\u001b[0m         \u001b[0;32melif\u001b[0m \u001b[0misinstance\u001b[0m\u001b[0;34m(\u001b[0m\u001b[0mval\u001b[0m\u001b[0;34m,\u001b[0m \u001b[0mlist\u001b[0m\u001b[0;34m)\u001b[0m\u001b[0;34m:\u001b[0m\u001b[0;34m\u001b[0m\u001b[0m\n",
      "\u001b[0;32mh5py/_objects.pyx\u001b[0m in \u001b[0;36mh5py._objects.with_phil.wrapper\u001b[0;34m()\u001b[0m\n",
      "\u001b[0;32mh5py/_objects.pyx\u001b[0m in \u001b[0;36mh5py._objects.with_phil.wrapper\u001b[0;34m()\u001b[0m\n",
      "\u001b[0;32m~/anaconda3/envs/dlnlp/lib/python3.6/site-packages/h5py/_hl/dataset.py\u001b[0m in \u001b[0;36m__setitem__\u001b[0;34m(self, args, val)\u001b[0m\n\u001b[1;32m    631\u001b[0m         \u001b[0;32mfor\u001b[0m \u001b[0mfspace\u001b[0m \u001b[0;32min\u001b[0m \u001b[0mselection\u001b[0m\u001b[0;34m.\u001b[0m\u001b[0mbroadcast\u001b[0m\u001b[0;34m(\u001b[0m\u001b[0mmshape\u001b[0m\u001b[0;34m)\u001b[0m\u001b[0;34m:\u001b[0m\u001b[0;34m\u001b[0m\u001b[0m\n\u001b[0;32m--> 632\u001b[0;31m             \u001b[0mself\u001b[0m\u001b[0;34m.\u001b[0m\u001b[0mid\u001b[0m\u001b[0;34m.\u001b[0m\u001b[0mwrite\u001b[0m\u001b[0;34m(\u001b[0m\u001b[0mmspace\u001b[0m\u001b[0;34m,\u001b[0m \u001b[0mfspace\u001b[0m\u001b[0;34m,\u001b[0m \u001b[0mval\u001b[0m\u001b[0;34m,\u001b[0m \u001b[0mmtype\u001b[0m\u001b[0;34m,\u001b[0m \u001b[0mdxpl\u001b[0m\u001b[0;34m=\u001b[0m\u001b[0mself\u001b[0m\u001b[0;34m.\u001b[0m\u001b[0m_dxpl\u001b[0m\u001b[0;34m)\u001b[0m\u001b[0;34m\u001b[0m\u001b[0m\n\u001b[0m\u001b[1;32m    633\u001b[0m \u001b[0;34m\u001b[0m\u001b[0m\n",
      "\u001b[0;32mh5py/_objects.pyx\u001b[0m in \u001b[0;36mh5py._objects.with_phil.wrapper\u001b[0;34m()\u001b[0m\n",
      "\u001b[0;32mh5py/_objects.pyx\u001b[0m in \u001b[0;36mh5py._objects.with_phil.wrapper\u001b[0;34m()\u001b[0m\n",
      "\u001b[0;32mh5py/h5d.pyx\u001b[0m in \u001b[0;36mh5py.h5d.DatasetID.write\u001b[0;34m()\u001b[0m\n",
      "\u001b[0;32mh5py/_proxy.pyx\u001b[0m in \u001b[0;36mh5py._proxy.dset_rw\u001b[0;34m()\u001b[0m\n",
      "\u001b[0;32mh5py/_proxy.pyx\u001b[0m in \u001b[0;36mh5py._proxy.H5PY_H5Dwrite\u001b[0;34m()\u001b[0m\n",
      "\u001b[0;31mOSError\u001b[0m: Can't prepare for writing data (file write failed: time = Thu Dec 13 18:38:32 2018\n, filename = 'modelv2.05-0.54.hdf5', file descriptor = 58, errno = 28, error message = 'No space left on device', buf = 0x7f5cc91bca80, total write size = 649754288, bytes this sub-write = 649754288, bytes actually written = 18446744073709551615, offset = 1719517184)",
      "\nDuring handling of the above exception, another exception occurred:\n",
      "\u001b[0;31mRuntimeError\u001b[0m                              Traceback (most recent call last)",
      "\u001b[0;32m<ipython-input-19-1f74e437aca2>\u001b[0m in \u001b[0;36m<module>\u001b[0;34m\u001b[0m\n\u001b[1;32m      1\u001b[0m \u001b[0mnb_epoch\u001b[0m \u001b[0;34m=\u001b[0m \u001b[0;36m10\u001b[0m\u001b[0;34m\u001b[0m\u001b[0m\n\u001b[1;32m      2\u001b[0m H = model.fit(X_train, y_train, epochs=nb_epoch, batch_size=50, validation_data=(X_test, y_test),\n\u001b[0;32m----> 3\u001b[0;31m               callbacks=_callbacks);\n\u001b[0m",
      "\u001b[0;32m~/anaconda3/envs/dlnlp/lib/python3.6/site-packages/keras/engine/training.py\u001b[0m in \u001b[0;36mfit\u001b[0;34m(self, x, y, batch_size, epochs, verbose, callbacks, validation_split, validation_data, shuffle, class_weight, sample_weight, initial_epoch, steps_per_epoch, validation_steps, **kwargs)\u001b[0m\n\u001b[1;32m   1037\u001b[0m                                         \u001b[0minitial_epoch\u001b[0m\u001b[0;34m=\u001b[0m\u001b[0minitial_epoch\u001b[0m\u001b[0;34m,\u001b[0m\u001b[0;34m\u001b[0m\u001b[0m\n\u001b[1;32m   1038\u001b[0m                                         \u001b[0msteps_per_epoch\u001b[0m\u001b[0;34m=\u001b[0m\u001b[0msteps_per_epoch\u001b[0m\u001b[0;34m,\u001b[0m\u001b[0;34m\u001b[0m\u001b[0m\n\u001b[0;32m-> 1039\u001b[0;31m                                         validation_steps=validation_steps)\n\u001b[0m\u001b[1;32m   1040\u001b[0m \u001b[0;34m\u001b[0m\u001b[0m\n\u001b[1;32m   1041\u001b[0m     def evaluate(self, x=None, y=None,\n",
      "\u001b[0;32m~/anaconda3/envs/dlnlp/lib/python3.6/site-packages/keras/engine/training_arrays.py\u001b[0m in \u001b[0;36mfit_loop\u001b[0;34m(model, f, ins, out_labels, batch_size, epochs, verbose, callbacks, val_f, val_ins, shuffle, callback_metrics, initial_epoch, steps_per_epoch, validation_steps)\u001b[0m\n\u001b[1;32m    215\u001b[0m                         \u001b[0;32mfor\u001b[0m \u001b[0ml\u001b[0m\u001b[0;34m,\u001b[0m \u001b[0mo\u001b[0m \u001b[0;32min\u001b[0m \u001b[0mzip\u001b[0m\u001b[0;34m(\u001b[0m\u001b[0mout_labels\u001b[0m\u001b[0;34m,\u001b[0m \u001b[0mval_outs\u001b[0m\u001b[0;34m)\u001b[0m\u001b[0;34m:\u001b[0m\u001b[0;34m\u001b[0m\u001b[0m\n\u001b[1;32m    216\u001b[0m                             \u001b[0mepoch_logs\u001b[0m\u001b[0;34m[\u001b[0m\u001b[0;34m'val_'\u001b[0m \u001b[0;34m+\u001b[0m \u001b[0ml\u001b[0m\u001b[0;34m]\u001b[0m \u001b[0;34m=\u001b[0m \u001b[0mo\u001b[0m\u001b[0;34m\u001b[0m\u001b[0m\n\u001b[0;32m--> 217\u001b[0;31m         \u001b[0mcallbacks\u001b[0m\u001b[0;34m.\u001b[0m\u001b[0mon_epoch_end\u001b[0m\u001b[0;34m(\u001b[0m\u001b[0mepoch\u001b[0m\u001b[0;34m,\u001b[0m \u001b[0mepoch_logs\u001b[0m\u001b[0;34m)\u001b[0m\u001b[0;34m\u001b[0m\u001b[0m\n\u001b[0m\u001b[1;32m    218\u001b[0m         \u001b[0;32mif\u001b[0m \u001b[0mcallback_model\u001b[0m\u001b[0;34m.\u001b[0m\u001b[0mstop_training\u001b[0m\u001b[0;34m:\u001b[0m\u001b[0;34m\u001b[0m\u001b[0m\n\u001b[1;32m    219\u001b[0m             \u001b[0;32mbreak\u001b[0m\u001b[0;34m\u001b[0m\u001b[0m\n",
      "\u001b[0;32m~/anaconda3/envs/dlnlp/lib/python3.6/site-packages/keras/callbacks.py\u001b[0m in \u001b[0;36mon_epoch_end\u001b[0;34m(self, epoch, logs)\u001b[0m\n\u001b[1;32m     77\u001b[0m         \u001b[0mlogs\u001b[0m \u001b[0;34m=\u001b[0m \u001b[0mlogs\u001b[0m \u001b[0;32mor\u001b[0m \u001b[0;34m{\u001b[0m\u001b[0;34m}\u001b[0m\u001b[0;34m\u001b[0m\u001b[0m\n\u001b[1;32m     78\u001b[0m         \u001b[0;32mfor\u001b[0m \u001b[0mcallback\u001b[0m \u001b[0;32min\u001b[0m \u001b[0mself\u001b[0m\u001b[0;34m.\u001b[0m\u001b[0mcallbacks\u001b[0m\u001b[0;34m:\u001b[0m\u001b[0;34m\u001b[0m\u001b[0m\n\u001b[0;32m---> 79\u001b[0;31m             \u001b[0mcallback\u001b[0m\u001b[0;34m.\u001b[0m\u001b[0mon_epoch_end\u001b[0m\u001b[0;34m(\u001b[0m\u001b[0mepoch\u001b[0m\u001b[0;34m,\u001b[0m \u001b[0mlogs\u001b[0m\u001b[0;34m)\u001b[0m\u001b[0;34m\u001b[0m\u001b[0m\n\u001b[0m\u001b[1;32m     80\u001b[0m \u001b[0;34m\u001b[0m\u001b[0m\n\u001b[1;32m     81\u001b[0m     \u001b[0;32mdef\u001b[0m \u001b[0mon_batch_begin\u001b[0m\u001b[0;34m(\u001b[0m\u001b[0mself\u001b[0m\u001b[0;34m,\u001b[0m \u001b[0mbatch\u001b[0m\u001b[0;34m,\u001b[0m \u001b[0mlogs\u001b[0m\u001b[0;34m=\u001b[0m\u001b[0;32mNone\u001b[0m\u001b[0;34m)\u001b[0m\u001b[0;34m:\u001b[0m\u001b[0;34m\u001b[0m\u001b[0m\n",
      "\u001b[0;32m~/anaconda3/envs/dlnlp/lib/python3.6/site-packages/keras/callbacks.py\u001b[0m in \u001b[0;36mon_epoch_end\u001b[0;34m(self, epoch, logs)\u001b[0m\n\u001b[1;32m    455\u001b[0m                     \u001b[0mself\u001b[0m\u001b[0;34m.\u001b[0m\u001b[0mmodel\u001b[0m\u001b[0;34m.\u001b[0m\u001b[0msave_weights\u001b[0m\u001b[0;34m(\u001b[0m\u001b[0mfilepath\u001b[0m\u001b[0;34m,\u001b[0m \u001b[0moverwrite\u001b[0m\u001b[0;34m=\u001b[0m\u001b[0;32mTrue\u001b[0m\u001b[0;34m)\u001b[0m\u001b[0;34m\u001b[0m\u001b[0m\n\u001b[1;32m    456\u001b[0m                 \u001b[0;32melse\u001b[0m\u001b[0;34m:\u001b[0m\u001b[0;34m\u001b[0m\u001b[0m\n\u001b[0;32m--> 457\u001b[0;31m                     \u001b[0mself\u001b[0m\u001b[0;34m.\u001b[0m\u001b[0mmodel\u001b[0m\u001b[0;34m.\u001b[0m\u001b[0msave\u001b[0m\u001b[0;34m(\u001b[0m\u001b[0mfilepath\u001b[0m\u001b[0;34m,\u001b[0m \u001b[0moverwrite\u001b[0m\u001b[0;34m=\u001b[0m\u001b[0;32mTrue\u001b[0m\u001b[0;34m)\u001b[0m\u001b[0;34m\u001b[0m\u001b[0m\n\u001b[0m\u001b[1;32m    458\u001b[0m \u001b[0;34m\u001b[0m\u001b[0m\n\u001b[1;32m    459\u001b[0m \u001b[0;34m\u001b[0m\u001b[0m\n",
      "\u001b[0;32m~/anaconda3/envs/dlnlp/lib/python3.6/site-packages/keras/engine/network.py\u001b[0m in \u001b[0;36msave\u001b[0;34m(self, filepath, overwrite, include_optimizer)\u001b[0m\n\u001b[1;32m   1088\u001b[0m             \u001b[0;32mraise\u001b[0m \u001b[0mNotImplementedError\u001b[0m\u001b[0;34m\u001b[0m\u001b[0m\n\u001b[1;32m   1089\u001b[0m         \u001b[0;32mfrom\u001b[0m \u001b[0;34m.\u001b[0m\u001b[0;34m.\u001b[0m\u001b[0mmodels\u001b[0m \u001b[0;32mimport\u001b[0m \u001b[0msave_model\u001b[0m\u001b[0;34m\u001b[0m\u001b[0m\n\u001b[0;32m-> 1090\u001b[0;31m         \u001b[0msave_model\u001b[0m\u001b[0;34m(\u001b[0m\u001b[0mself\u001b[0m\u001b[0;34m,\u001b[0m \u001b[0mfilepath\u001b[0m\u001b[0;34m,\u001b[0m \u001b[0moverwrite\u001b[0m\u001b[0;34m,\u001b[0m \u001b[0minclude_optimizer\u001b[0m\u001b[0;34m)\u001b[0m\u001b[0;34m\u001b[0m\u001b[0m\n\u001b[0m\u001b[1;32m   1091\u001b[0m \u001b[0;34m\u001b[0m\u001b[0m\n\u001b[1;32m   1092\u001b[0m     \u001b[0;32mdef\u001b[0m \u001b[0msave_weights\u001b[0m\u001b[0;34m(\u001b[0m\u001b[0mself\u001b[0m\u001b[0;34m,\u001b[0m \u001b[0mfilepath\u001b[0m\u001b[0;34m,\u001b[0m \u001b[0moverwrite\u001b[0m\u001b[0;34m=\u001b[0m\u001b[0;32mTrue\u001b[0m\u001b[0;34m)\u001b[0m\u001b[0;34m:\u001b[0m\u001b[0;34m\u001b[0m\u001b[0m\n",
      "\u001b[0;32m~/anaconda3/envs/dlnlp/lib/python3.6/site-packages/keras/engine/saving.py\u001b[0m in \u001b[0;36msave_model\u001b[0;34m(model, filepath, overwrite, include_optimizer)\u001b[0m\n\u001b[1;32m    383\u001b[0m     \u001b[0;32mfinally\u001b[0m\u001b[0;34m:\u001b[0m\u001b[0;34m\u001b[0m\u001b[0m\n\u001b[1;32m    384\u001b[0m         \u001b[0;32mif\u001b[0m \u001b[0mopened_new_file\u001b[0m\u001b[0;34m:\u001b[0m\u001b[0;34m\u001b[0m\u001b[0m\n\u001b[0;32m--> 385\u001b[0;31m             \u001b[0mf\u001b[0m\u001b[0;34m.\u001b[0m\u001b[0mclose\u001b[0m\u001b[0;34m(\u001b[0m\u001b[0;34m)\u001b[0m\u001b[0;34m\u001b[0m\u001b[0m\n\u001b[0m\u001b[1;32m    386\u001b[0m \u001b[0;34m\u001b[0m\u001b[0m\n\u001b[1;32m    387\u001b[0m \u001b[0;34m\u001b[0m\u001b[0m\n",
      "\u001b[0;32m~/anaconda3/envs/dlnlp/lib/python3.6/site-packages/keras/utils/io_utils.py\u001b[0m in \u001b[0;36mclose\u001b[0;34m(self)\u001b[0m\n\u001b[1;32m    328\u001b[0m     \u001b[0;32mdef\u001b[0m \u001b[0mclose\u001b[0m\u001b[0;34m(\u001b[0m\u001b[0mself\u001b[0m\u001b[0;34m)\u001b[0m\u001b[0;34m:\u001b[0m\u001b[0;34m\u001b[0m\u001b[0m\n\u001b[1;32m    329\u001b[0m         \u001b[0;32mif\u001b[0m \u001b[0misinstance\u001b[0m\u001b[0;34m(\u001b[0m\u001b[0mself\u001b[0m\u001b[0;34m.\u001b[0m\u001b[0mdata\u001b[0m\u001b[0;34m,\u001b[0m \u001b[0mh5py\u001b[0m\u001b[0;34m.\u001b[0m\u001b[0mGroup\u001b[0m\u001b[0;34m)\u001b[0m\u001b[0;34m:\u001b[0m\u001b[0;34m\u001b[0m\u001b[0m\n\u001b[0;32m--> 330\u001b[0;31m             \u001b[0mself\u001b[0m\u001b[0;34m.\u001b[0m\u001b[0mdata\u001b[0m\u001b[0;34m.\u001b[0m\u001b[0mfile\u001b[0m\u001b[0;34m.\u001b[0m\u001b[0mflush\u001b[0m\u001b[0;34m(\u001b[0m\u001b[0;34m)\u001b[0m\u001b[0;34m\u001b[0m\u001b[0m\n\u001b[0m\u001b[1;32m    331\u001b[0m             \u001b[0;32mif\u001b[0m \u001b[0mself\u001b[0m\u001b[0;34m.\u001b[0m\u001b[0m_is_file\u001b[0m\u001b[0;34m:\u001b[0m\u001b[0;34m\u001b[0m\u001b[0m\n\u001b[1;32m    332\u001b[0m                 \u001b[0mself\u001b[0m\u001b[0;34m.\u001b[0m\u001b[0mdata\u001b[0m\u001b[0;34m.\u001b[0m\u001b[0mclose\u001b[0m\u001b[0;34m(\u001b[0m\u001b[0;34m)\u001b[0m\u001b[0;34m\u001b[0m\u001b[0m\n",
      "\u001b[0;32m~/anaconda3/envs/dlnlp/lib/python3.6/site-packages/h5py/_hl/files.py\u001b[0m in \u001b[0;36mflush\u001b[0;34m(self)\u001b[0m\n\u001b[1;32m    349\u001b[0m         \"\"\"\n\u001b[1;32m    350\u001b[0m         \u001b[0;32mwith\u001b[0m \u001b[0mphil\u001b[0m\u001b[0;34m:\u001b[0m\u001b[0;34m\u001b[0m\u001b[0m\n\u001b[0;32m--> 351\u001b[0;31m             \u001b[0mh5f\u001b[0m\u001b[0;34m.\u001b[0m\u001b[0mflush\u001b[0m\u001b[0;34m(\u001b[0m\u001b[0mself\u001b[0m\u001b[0;34m.\u001b[0m\u001b[0mfid\u001b[0m\u001b[0;34m)\u001b[0m\u001b[0;34m\u001b[0m\u001b[0m\n\u001b[0m\u001b[1;32m    352\u001b[0m \u001b[0;34m\u001b[0m\u001b[0m\n\u001b[1;32m    353\u001b[0m     \u001b[0;34m@\u001b[0m\u001b[0mwith_phil\u001b[0m\u001b[0;34m\u001b[0m\u001b[0m\n",
      "\u001b[0;32mh5py/_objects.pyx\u001b[0m in \u001b[0;36mh5py._objects.with_phil.wrapper\u001b[0;34m()\u001b[0m\n",
      "\u001b[0;32mh5py/_objects.pyx\u001b[0m in \u001b[0;36mh5py._objects.with_phil.wrapper\u001b[0;34m()\u001b[0m\n",
      "\u001b[0;32mh5py/h5f.pyx\u001b[0m in \u001b[0;36mh5py.h5f.flush\u001b[0;34m()\u001b[0m\n",
      "\u001b[0;31mRuntimeError\u001b[0m: Unable to flush file's cached information (file write failed: time = Thu Dec 13 18:38:32 2018\n, filename = 'modelv2.05-0.54.hdf5', file descriptor = 58, errno = 28, error message = 'No space left on device', buf = 0x556d70bf9570, total write size = 6144, bytes this sub-write = 6144, bytes actually written = 18446744073709551615, offset = 4096)"
     ]
    }
   ],
   "source": [
    "nb_epoch = 10\n",
    "H = model.fit(X_train, y_train, epochs=nb_epoch, batch_size=50, validation_data=(X_test, y_test),\n",
    "              callbacks=_callbacks);"
   ]
  },
  {
   "cell_type": "code",
   "execution_count": 24,
   "metadata": {},
   "outputs": [
    {
     "name": "stdout",
     "output_type": "stream",
     "text": [
      "Generating plots...\n"
     ]
    },
    {
     "name": "stderr",
     "output_type": "stream",
     "text": [
      "/home/arthur/anaconda3/envs/dlnlp/lib/python3.6/site-packages/ipykernel_launcher.py:5: UserWarning: matplotlib.pyplot as already been imported, this call will have no effect.\n",
      "  \"\"\"\n",
      "/home/arthur/anaconda3/envs/dlnlp/lib/python3.6/site-packages/matplotlib/font_manager.py:1241: UserWarning: findfont: Font family ['serif'] not found. Falling back to DejaVu Sans.\n",
      "  (prop.get_family(), self.defaultFamily[fontext]))\n",
      "/home/arthur/anaconda3/envs/dlnlp/lib/python3.6/site-packages/matplotlib/font_manager.py:1241: UserWarning: findfont: Font family ['serif'] not found. Falling back to DejaVu Sans.\n",
      "  (prop.get_family(), self.defaultFamily[fontext]))\n"
     ]
    },
    {
     "data": {
      "image/png": "[encoded data removed]",
      "text/plain": [
       "<Figure size 432x288 with 1 Axes>"
      ]
     },
     "metadata": {},
     "output_type": "display_data"
    },
    {
     "data": {
      "image/png": "[encoded data removed]",
      "text/plain": [
       "<Figure size 432x288 with 1 Axes>"
      ]
     },
     "metadata": {},
     "output_type": "display_data"
    }
   ],
   "source": [
    "generate_plot(H, nb_epoch)"
   ]
  },
  {
   "cell_type": "code",
   "execution_count": 10,
   "metadata": {},
   "outputs": [],
   "source": [
    "loaded_model = None\n",
    "with CustomObjectScope({'Attention': Attention, 'AttentionWithContext': AttentionWithContext}):\n",
    "    loaded_model = load_model('modelv2.04-0.49.hdf5')\n",
    "\n",
    "#loaded_model = Model(input=[input_turn0, input_turn1, input_turn2], output=probabilities)\n",
    "#weights = load_model('model.02-0.53.hdf5', custom_objects={'Attention': Attention, 'AttentionWithContext': AttentionWithContext}).get_weights()\n",
    "#loaded_model.set_weights(weights)\n"
   ]
  },
  {
   "cell_type": "code",
   "execution_count": 11,
   "metadata": {},
   "outputs": [],
   "source": [
    "res = loaded_model.predict(Xtest)"
   ]
  },
  {
   "cell_type": "code",
   "execution_count": 20,
   "metadata": {},
   "outputs": [
    {
     "data": {
      "text/plain": [
       "0.6859785830616255"
      ]
     },
     "execution_count": 20,
     "metadata": {},
     "output_type": "execute_result"
    }
   ],
   "source": [
    "from keras.utils import np_utils\n",
    "\n",
    "dic = {'others': 0, 'angry': 1, 'sad': 2, 'happy': 3}\n",
    "\n",
    "f1_score(Ytest, np_utils.to_categorical(np.argmax(res, axis=1)), average='macro',\n",
    "         labels=[dic['happy'], dic['sad'],\n",
    "                 dic['angry'], dic['others']])"
   ]
  },
  {
   "cell_type": "code",
   "execution_count": 19,
   "metadata": {},
   "outputs": [
    {
     "data": {
      "text/plain": [
       "0.25"
      ]
     },
     "execution_count": 19,
     "metadata": {},
     "output_type": "execute_result"
    }
   ],
   "source": [
    "true = [0, 1, 0, 0, 1, 0]\n",
    "pred = [0, 0, 1, 0, 0, 1]\n",
    "f1_score(true, pred, average='macro')"
   ]
  },
  {
   "cell_type": "code",
   "execution_count": 22,
   "metadata": {},
   "outputs": [
    {
     "data": {
      "text/plain": [
       "['angry', 'others', 'happy', 'others', 'angry']"
      ]
     },
     "execution_count": 22,
     "metadata": {},
     "output_type": "execute_result"
    }
   ],
   "source": [
    "dic_inv = {0: 'others', 1: 'angry', 2: 'sad', 3: 'happy'}\n",
    "res_txt = list(map(lambda r: dic_inv[np.argmax(r)], res))\n",
    "res_txt[:5]"
   ]
  },
  {
   "cell_type": "code",
   "execution_count": 23,
   "metadata": {},
   "outputs": [],
   "source": [
    "df = pd.read_csv('../data/test.txt', sep='\\t', index_col=0)\n",
    "df['label'] = res_txt\n",
    "df.head()\n",
    "df.to_csv('submit1.txt', sep='\\t')"
   ]
  },
  {
   "cell_type": "code",
   "execution_count": 68,
   "metadata": {},
   "outputs": [
    {
     "data": {
      "text/plain": [
       "(2755, 40)"
      ]
     },
     "execution_count": 68,
     "metadata": {},
     "output_type": "execute_result"
    }
   ],
   "source": [
    "Xtest[2].shape"
   ]
  },
  {
   "cell_type": "code",
   "execution_count": 13,
   "metadata": {},
   "outputs": [
    {
     "name": "stdout",
     "output_type": "stream",
     "text": [
      "__________________________________________________________________________________________________\n",
      "Layer (type)                    Output Shape         Param #     Connected to                     \n",
      "==================================================================================================\n",
      "input_2 (InputLayer)            (None, 34)           0                                            \n",
      "__________________________________________________________________________________________________\n",
      "embedding_2 (Embedding)         (None, 34, 300)      197437500   input_2[0][0]                    \n",
      "__________________________________________________________________________________________________\n",
      "input_3 (InputLayer)            (None, 40)           0                                            \n",
      "__________________________________________________________________________________________________\n",
      "gaussian_noise_2 (GaussianNoise (None, 34, 300)      0           embedding_2[0][0]                \n",
      "__________________________________________________________________________________________________\n",
      "embedding_3 (Embedding)         (None, 40, 300)      197437500   input_3[0][0]                    \n",
      "__________________________________________________________________________________________________\n",
      "dropout_2 (Dropout)             (None, 34, 300)      0           gaussian_noise_2[0][0]           \n",
      "__________________________________________________________________________________________________\n",
      "gaussian_noise_3 (GaussianNoise (None, 40, 300)      0           embedding_3[0][0]                \n",
      "__________________________________________________________________________________________________\n",
      "bidirectional_1 (Bidirectional) multiple             140160      dropout_3[0][0]                  \n",
      "                                                                 dropout_2[0][0]                  \n",
      "__________________________________________________________________________________________________\n",
      "dropout_3 (Dropout)             (None, 40, 300)      0           gaussian_noise_3[0][0]           \n",
      "__________________________________________________________________________________________________\n",
      "dropout_10 (Dropout)            (None, 34, 128)      0           bidirectional_1[1][0]            \n",
      "__________________________________________________________________________________________________\n",
      "dropout_12 (Dropout)            (None, 34, 128)      0           dropout_10[0][0]                 \n",
      "__________________________________________________________________________________________________\n",
      "dropout_7 (Dropout)             (None, 40, 128)      0           bidirectional_1[0][0]            \n",
      "__________________________________________________________________________________________________\n",
      "concatenate_1 (Concatenate)     (None, 108, 128)     0           dropout_12[0][0]                 \n",
      "                                                                 dropout_7[0][0]                  \n",
      "                                                                 dropout_10[0][0]                 \n",
      "__________________________________________________________________________________________________\n",
      "attention_with_context_1 (Atten (None, 128)          16640       concatenate_1[0][0]              \n",
      "__________________________________________________________________________________________________\n",
      "dense_1 (Dense)                 (None, 100)          12900       attention_with_context_1[0][0]   \n",
      "__________________________________________________________________________________________________\n",
      "dropout_13 (Dropout)            (None, 100)          0           dense_1[0][0]                    \n",
      "__________________________________________________________________________________________________\n",
      "dense_2 (Dense)                 (None, 4)            404         dropout_13[0][0]                 \n",
      "==================================================================================================\n",
      "Total params: 395,045,104\n",
      "Trainable params: 170,104\n",
      "Non-trainable params: 394,875,000\n",
      "__________________________________________________________________________________________________\n"
     ]
    }
   ],
   "source": [
    "loaded_model.summary()"
   ]
  },
  {
   "cell_type": "code",
   "execution_count": null,
   "metadata": {},
   "outputs": [],
   "source": []
  }
 ],
 "metadata": {
  "kernelspec": {
   "display_name": "Python (dlnlp)",
   "language": "python",
   "name": "dlnlp"
  },
  "language_info": {
   "codemirror_mode": {
    "name": "ipython",
    "version": 3
   },
   "file_extension": ".py",
   "mimetype": "text/x-python",
   "name": "python",
   "nbconvert_exporter": "python",
   "pygments_lexer": "ipython3",
   "version": "3.6.6"
  }
 },
 "nbformat": 4,
 "nbformat_minor": 2
}
